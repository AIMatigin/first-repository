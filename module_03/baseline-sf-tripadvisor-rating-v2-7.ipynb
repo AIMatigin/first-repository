{
 "cells": [
  {
   "cell_type": "markdown",
   "metadata": {},
   "source": [
    "# import"
   ]
  },
  {
   "cell_type": "code",
   "execution_count": 1,
   "metadata": {
    "_cell_guid": "b1076dfc-b9ad-4769-8c92-a6c4dae69d19",
    "_uuid": "8f2839f25d086af736a60e9eeb907d3b93b6e0e5",
    "execution": {
     "iopub.execute_input": "2021-07-09T14:07:31.431439Z",
     "iopub.status.busy": "2021-07-09T14:07:31.430927Z",
     "iopub.status.idle": "2021-07-09T14:07:34.521881Z",
     "shell.execute_reply": "2021-07-09T14:07:34.520803Z",
     "shell.execute_reply.started": "2021-07-09T14:07:31.431368Z"
    }
   },
   "outputs": [
    {
     "name": "stdout",
     "output_type": "stream",
     "text": [
      "/kaggle/input/world-cities/worldcities.csv\n",
      "/kaggle/input/sf-dst-restaurant-rating/sample_submission.csv\n",
      "/kaggle/input/sf-dst-restaurant-rating/main_task.csv\n",
      "/kaggle/input/sf-dst-restaurant-rating/kaggle_task.csv\n",
      "/kaggle/input/income-by-country/Income by Country.xlsx\n"
     ]
    }
   ],
   "source": [
    "# This Python 3 environment comes with many helpful analytics libraries installed\n",
    "# It is defined by the kaggle/python docker image: https://github.com/kaggle/docker-python\n",
    "# For example, here's several helpful packages to load in \n",
    "\n",
    "import numpy as np # linear algebra\n",
    "import pandas as pd # data processing, CSV file I/O (e.g. pd.read_csv)\n",
    "\n",
    "import matplotlib.pyplot as plt\n",
    "import seaborn as sns \n",
    "%matplotlib inline\n",
    "\n",
    "# Загружаем специальный удобный инструмент для разделения датасета:\n",
    "from sklearn.model_selection import train_test_split\n",
    "\n",
    "# Input data files are available in the \"../input/\" directory.\n",
    "# For example, running this (by clicking run or pressing Shift+Enter) will list all files under the input directory\n",
    "\n",
    "import os\n",
    "for dirname, _, filenames in os.walk('/kaggle/input'):\n",
    "    for filename in filenames:\n",
    "        print(os.path.join(dirname, filename))\n",
    "        \n",
    "import re\n",
    "from datetime import datetime, timedelta\n",
    "import math\n",
    "\n",
    "\n",
    "# Any results you write to the current directory are saved as output."
   ]
  },
  {
   "cell_type": "code",
   "execution_count": 2,
   "metadata": {
    "execution": {
     "iopub.execute_input": "2021-07-09T14:07:34.524196Z",
     "iopub.status.busy": "2021-07-09T14:07:34.523916Z",
     "iopub.status.idle": "2021-07-09T14:07:34.528274Z",
     "shell.execute_reply": "2021-07-09T14:07:34.527155Z",
     "shell.execute_reply.started": "2021-07-09T14:07:34.524143Z"
    }
   },
   "outputs": [],
   "source": [
    "# всегда фиксируйте RANDOM_SEED, чтобы ваши эксперименты были воспроизводимы!\n",
    "RANDOM_SEED = 42"
   ]
  },
  {
   "cell_type": "code",
   "execution_count": 3,
   "metadata": {
    "execution": {
     "iopub.execute_input": "2021-07-09T14:07:34.529857Z",
     "iopub.status.busy": "2021-07-09T14:07:34.529530Z",
     "iopub.status.idle": "2021-07-09T14:07:37.932144Z",
     "shell.execute_reply": "2021-07-09T14:07:37.931080Z",
     "shell.execute_reply.started": "2021-07-09T14:07:34.529802Z"
    }
   },
   "outputs": [],
   "source": [
    "# зафиксируем версию пакетов, чтобы эксперименты были воспроизводимы:\n",
    "!pip freeze > requirements.txt"
   ]
  },
  {
   "cell_type": "markdown",
   "metadata": {},
   "source": [
    "# DATA"
   ]
  },
  {
   "cell_type": "code",
   "execution_count": 4,
   "metadata": {
    "_cell_guid": "79c7e3d0-c299-4dcb-8224-4455121ee9b0",
    "_uuid": "d629ff2d2480ee46fbb7e2d37f6b5fab8052498a",
    "execution": {
     "iopub.execute_input": "2021-07-09T14:07:37.934016Z",
     "iopub.status.busy": "2021-07-09T14:07:37.933760Z",
     "iopub.status.idle": "2021-07-09T14:07:38.349460Z",
     "shell.execute_reply": "2021-07-09T14:07:38.348713Z",
     "shell.execute_reply.started": "2021-07-09T14:07:37.933974Z"
    }
   },
   "outputs": [],
   "source": [
    "DATA_DIR = '/kaggle/input/sf-dst-restaurant-rating/'\n",
    "df_train = pd.read_csv(DATA_DIR+'/main_task.csv')\n",
    "df_test = pd.read_csv(DATA_DIR+'kaggle_task.csv')\n",
    "sample_submission = pd.read_csv(DATA_DIR+'/sample_submission.csv')"
   ]
  },
  {
   "cell_type": "code",
   "execution_count": 5,
   "metadata": {
    "execution": {
     "iopub.execute_input": "2021-07-09T14:07:38.352359Z",
     "iopub.status.busy": "2021-07-09T14:07:38.351859Z",
     "iopub.status.idle": "2021-07-09T14:07:38.413702Z",
     "shell.execute_reply": "2021-07-09T14:07:38.412947Z",
     "shell.execute_reply.started": "2021-07-09T14:07:38.352289Z"
    }
   },
   "outputs": [],
   "source": [
    "# ВАЖНО! дря корректной обработки признаков объединяем трейн и тест в один датасет\n",
    "df_train['sample'] = 1 # помечаем где у нас трейн\n",
    "df_test['sample'] = 0 # помечаем где у нас тест\n",
    "df_test['Rating'] = 0 # в тесте у нас нет значения Rating, мы его должны предсказать, по этому пока просто заполняем нулями\n",
    "\n",
    "data = df_test.append(df_train, sort=False).reset_index(drop=True) # объединяем"
   ]
  },
  {
   "cell_type": "markdown",
   "metadata": {},
   "source": [
    "# Cleaning and Prepping Data\n",
    "Обычно данные содержат в себе кучу мусора, который необходимо почистить, для того чтобы привести их в приемлемый формат. Чистка данных — это необходимый этап решения почти любой реальной задачи.   \n",
    "![](https://analyticsindiamag.com/wp-content/uploads/2018/01/data-cleaning.png)"
   ]
  },
  {
   "cell_type": "markdown",
   "metadata": {},
   "source": [
    "## Проверка на уникальность\n",
    "Проверим полностью дублирующиеся строки\n",
    "\n"
   ]
  },
  {
   "cell_type": "code",
   "execution_count": 6,
   "metadata": {
    "execution": {
     "iopub.execute_input": "2021-07-09T14:07:38.416407Z",
     "iopub.status.busy": "2021-07-09T14:07:38.415918Z",
     "iopub.status.idle": "2021-07-09T14:07:38.513331Z",
     "shell.execute_reply": "2021-07-09T14:07:38.512676Z",
     "shell.execute_reply.started": "2021-07-09T14:07:38.416357Z"
    }
   },
   "outputs": [
    {
     "data": {
      "text/plain": [
       "False    50000\n",
       "dtype: int64"
      ]
     },
     "execution_count": 6,
     "metadata": {},
     "output_type": "execute_result"
    }
   ],
   "source": [
    "data.duplicated(subset=None, keep='first').value_counts()"
   ]
  },
  {
   "cell_type": "markdown",
   "metadata": {},
   "source": [
    "Полностью дублирующихся строк нет."
   ]
  },
  {
   "cell_type": "markdown",
   "metadata": {},
   "source": [
    "Проверим отдельные поля датасета на наличие повторений и дубликатов"
   ]
  },
  {
   "cell_type": "markdown",
   "metadata": {},
   "source": [
    "### 'Restaurant_id'\n"
   ]
  },
  {
   "cell_type": "code",
   "execution_count": 7,
   "metadata": {
    "execution": {
     "iopub.execute_input": "2021-07-09T14:07:38.514924Z",
     "iopub.status.busy": "2021-07-09T14:07:38.514505Z",
     "iopub.status.idle": "2021-07-09T14:07:38.537667Z",
     "shell.execute_reply": "2021-07-09T14:07:38.536566Z",
     "shell.execute_reply.started": "2021-07-09T14:07:38.514883Z"
    }
   },
   "outputs": [
    {
     "data": {
      "text/plain": [
       "9287"
      ]
     },
     "execution_count": 7,
     "metadata": {},
     "output_type": "execute_result"
    }
   ],
   "source": [
    "len(data['Restaurant_id'].value_counts().loc[lambda x : x > 1].index)"
   ]
  },
  {
   "cell_type": "markdown",
   "metadata": {},
   "source": [
    "Как видно есть повторяющиеся значения. Выясним, что они означают."
   ]
  },
  {
   "cell_type": "code",
   "execution_count": 8,
   "metadata": {
    "execution": {
     "iopub.execute_input": "2021-07-09T14:07:38.538922Z",
     "iopub.status.busy": "2021-07-09T14:07:38.538692Z",
     "iopub.status.idle": "2021-07-09T14:07:38.561536Z",
     "shell.execute_reply": "2021-07-09T14:07:38.560196Z",
     "shell.execute_reply.started": "2021-07-09T14:07:38.538880Z"
    }
   },
   "outputs": [
    {
     "data": {
      "text/plain": [
       "Index(['id_227', 'id_633', 'id_436', 'id_871', 'id_585', 'id_430', 'id_321',\n",
       "       'id_344', 'id_71', 'id_534'],\n",
       "      dtype='object')"
      ]
     },
     "execution_count": 8,
     "metadata": {},
     "output_type": "execute_result"
    }
   ],
   "source": [
    "data['Restaurant_id'].value_counts().loc[lambda x : x > 1].index[:10]"
   ]
  },
  {
   "cell_type": "markdown",
   "metadata": {
    "execution": {
     "iopub.execute_input": "2021-06-01T14:25:26.862007Z",
     "iopub.status.busy": "2021-06-01T14:25:26.861517Z",
     "iopub.status.idle": "2021-06-01T14:25:26.870484Z",
     "shell.execute_reply": "2021-06-01T14:25:26.869277Z",
     "shell.execute_reply.started": "2021-06-01T14:25:26.861947Z"
    }
   },
   "source": [
    "Строки с одинаковым 'Restaurant_id' имеют различные, не повторяющиеся поля как городов, типов кухонь, так и идентификаторов ID_TA. Можно предположить, что это не ошибка данных,  скорее всего поле означает  не конкретный ресторан, а сеть  ресторанов или одного владельца.\n"
   ]
  },
  {
   "cell_type": "markdown",
   "metadata": {},
   "source": [
    "### 'City'"
   ]
  },
  {
   "cell_type": "code",
   "execution_count": 9,
   "metadata": {
    "execution": {
     "iopub.execute_input": "2021-07-09T14:07:38.563938Z",
     "iopub.status.busy": "2021-07-09T14:07:38.563550Z",
     "iopub.status.idle": "2021-07-09T14:07:38.583943Z",
     "shell.execute_reply": "2021-07-09T14:07:38.582868Z",
     "shell.execute_reply.started": "2021-07-09T14:07:38.563860Z"
    }
   },
   "outputs": [
    {
     "data": {
      "text/plain": [
       "Amsterdam     1372\n",
       "Athens         776\n",
       "Barcelona     3395\n",
       "Berlin        2705\n",
       "Bratislava     380\n",
       "Brussels      1314\n",
       "Budapest      1021\n",
       "Copenhagen     819\n",
       "Dublin         836\n",
       "Edinburgh      745\n",
       "Geneva         590\n",
       "Hamburg       1186\n",
       "Helsinki       475\n",
       "Krakow         554\n",
       "Lisbon        1647\n",
       "Ljubljana      222\n",
       "London        7193\n",
       "Luxembourg     263\n",
       "Lyon          1126\n",
       "Madrid        3813\n",
       "Milan         2694\n",
       "Munich        1145\n",
       "Oporto         642\n",
       "Oslo           488\n",
       "Paris         6108\n",
       "Prague        1816\n",
       "Rome          2589\n",
       "Stockholm     1033\n",
       "Vienna        1443\n",
       "Warsaw         925\n",
       "Zurich         685\n",
       "Name: City, dtype: int64"
      ]
     },
     "execution_count": 9,
     "metadata": {},
     "output_type": "execute_result"
    }
   ],
   "source": [
    "data['City'].value_counts().sort_index(ascending=True)"
   ]
  },
  {
   "cell_type": "code",
   "execution_count": 10,
   "metadata": {
    "execution": {
     "iopub.execute_input": "2021-07-09T14:07:38.586564Z",
     "iopub.status.busy": "2021-07-09T14:07:38.585879Z",
     "iopub.status.idle": "2021-07-09T14:07:38.599263Z",
     "shell.execute_reply": "2021-07-09T14:07:38.598329Z",
     "shell.execute_reply.started": "2021-07-09T14:07:38.586503Z"
    }
   },
   "outputs": [],
   "source": [
    "cities_list = list(data['City'].value_counts().index)"
   ]
  },
  {
   "cell_type": "markdown",
   "metadata": {},
   "source": [
    "C названиями городов все в порядке"
   ]
  },
  {
   "cell_type": "markdown",
   "metadata": {},
   "source": [
    "## 'Cuisine Style'"
   ]
  },
  {
   "cell_type": "markdown",
   "metadata": {},
   "source": [
    "У данного признака присутствую пропуске в наборе данных."
   ]
  },
  {
   "cell_type": "markdown",
   "metadata": {},
   "source": [
    "Посмотрим более детально какие кухни преобладают в общей выборке и отдельно по городам."
   ]
  },
  {
   "cell_type": "code",
   "execution_count": 11,
   "metadata": {
    "execution": {
     "iopub.execute_input": "2021-07-09T14:07:38.601184Z",
     "iopub.status.busy": "2021-07-09T14:07:38.600651Z",
     "iopub.status.idle": "2021-07-09T14:07:38.629605Z",
     "shell.execute_reply": "2021-07-09T14:07:38.628448Z",
     "shell.execute_reply.started": "2021-07-09T14:07:38.601040Z"
    }
   },
   "outputs": [
    {
     "data": {
      "text/plain": [
       "NaN                             11590\n",
       "['Italian']                      1332\n",
       "['French']                       1019\n",
       "['Spanish']                       860\n",
       "['French', 'European']            503\n",
       "['Cafe']                          500\n",
       "['Pizza']                         454\n",
       "['Italian', 'Pizza']              422\n",
       "['Chinese']                       418\n",
       "['European', 'Portuguese']        415\n",
       "['Mediterranean']                 311\n",
       "['Bar', 'Pub']                    307\n",
       "['Mediterranean', 'Spanish']      293\n",
       "['Vegetarian Friendly']           276\n",
       "['Indian']                        270\n",
       "['Fast Food']                     263\n",
       "['International']                 247\n",
       "['Japanese']                      247\n",
       "['Italian', 'Mediterranean']      245\n",
       "['European']                      245\n",
       "Name: Cuisine Style, dtype: int64"
      ]
     },
     "execution_count": 11,
     "metadata": {},
     "output_type": "execute_result"
    }
   ],
   "source": [
    "data['Cuisine Style'].value_counts(dropna=False).head(20)"
   ]
  },
  {
   "cell_type": "code",
   "execution_count": 12,
   "metadata": {
    "execution": {
     "iopub.execute_input": "2021-07-09T14:07:38.631756Z",
     "iopub.status.busy": "2021-07-09T14:07:38.631238Z",
     "iopub.status.idle": "2021-07-09T14:07:38.859850Z",
     "shell.execute_reply": "2021-07-09T14:07:38.858819Z",
     "shell.execute_reply.started": "2021-07-09T14:07:38.631696Z"
    }
   },
   "outputs": [
    {
     "data": {
      "text/html": [
       "<div>\n",
       "<style scoped>\n",
       "    .dataframe tbody tr th:only-of-type {\n",
       "        vertical-align: middle;\n",
       "    }\n",
       "\n",
       "    .dataframe tbody tr th {\n",
       "        vertical-align: top;\n",
       "    }\n",
       "\n",
       "    .dataframe thead tr th {\n",
       "        text-align: left;\n",
       "    }\n",
       "\n",
       "    .dataframe thead tr:last-of-type th {\n",
       "        text-align: right;\n",
       "    }\n",
       "</style>\n",
       "<table border=\"1\" class=\"dataframe\">\n",
       "  <thead>\n",
       "    <tr>\n",
       "      <th></th>\n",
       "      <th colspan=\"4\" halign=\"left\">Cuisine Style</th>\n",
       "    </tr>\n",
       "    <tr>\n",
       "      <th></th>\n",
       "      <th>count</th>\n",
       "      <th>unique</th>\n",
       "      <th>top</th>\n",
       "      <th>freq</th>\n",
       "    </tr>\n",
       "    <tr>\n",
       "      <th>City</th>\n",
       "      <th></th>\n",
       "      <th></th>\n",
       "      <th></th>\n",
       "      <th></th>\n",
       "    </tr>\n",
       "  </thead>\n",
       "  <tbody>\n",
       "    <tr>\n",
       "      <th>Amsterdam</th>\n",
       "      <td>1170</td>\n",
       "      <td>717</td>\n",
       "      <td>['Dutch', 'European']</td>\n",
       "      <td>33</td>\n",
       "    </tr>\n",
       "    <tr>\n",
       "      <th>Athens</th>\n",
       "      <td>627</td>\n",
       "      <td>302</td>\n",
       "      <td>['Greek']</td>\n",
       "      <td>92</td>\n",
       "    </tr>\n",
       "    <tr>\n",
       "      <th>Barcelona</th>\n",
       "      <td>2608</td>\n",
       "      <td>1021</td>\n",
       "      <td>['Spanish']</td>\n",
       "      <td>249</td>\n",
       "    </tr>\n",
       "    <tr>\n",
       "      <th>Berlin</th>\n",
       "      <td>1793</td>\n",
       "      <td>784</td>\n",
       "      <td>['Italian']</td>\n",
       "      <td>96</td>\n",
       "    </tr>\n",
       "    <tr>\n",
       "      <th>Bratislava</th>\n",
       "      <td>236</td>\n",
       "      <td>162</td>\n",
       "      <td>['Pub']</td>\n",
       "      <td>15</td>\n",
       "    </tr>\n",
       "    <tr>\n",
       "      <th>Brussels</th>\n",
       "      <td>992</td>\n",
       "      <td>491</td>\n",
       "      <td>['Belgian', 'European']</td>\n",
       "      <td>54</td>\n",
       "    </tr>\n",
       "    <tr>\n",
       "      <th>Budapest</th>\n",
       "      <td>819</td>\n",
       "      <td>509</td>\n",
       "      <td>['European', 'Hungarian']</td>\n",
       "      <td>72</td>\n",
       "    </tr>\n",
       "    <tr>\n",
       "      <th>Copenhagen</th>\n",
       "      <td>616</td>\n",
       "      <td>360</td>\n",
       "      <td>['European', 'Danish']</td>\n",
       "      <td>21</td>\n",
       "    </tr>\n",
       "    <tr>\n",
       "      <th>Dublin</th>\n",
       "      <td>704</td>\n",
       "      <td>440</td>\n",
       "      <td>['Irish', 'Bar', 'Pub']</td>\n",
       "      <td>24</td>\n",
       "    </tr>\n",
       "    <tr>\n",
       "      <th>Edinburgh</th>\n",
       "      <td>649</td>\n",
       "      <td>412</td>\n",
       "      <td>['Cafe']</td>\n",
       "      <td>17</td>\n",
       "    </tr>\n",
       "    <tr>\n",
       "      <th>Geneva</th>\n",
       "      <td>474</td>\n",
       "      <td>261</td>\n",
       "      <td>['French', 'Mediterranean', 'European']</td>\n",
       "      <td>23</td>\n",
       "    </tr>\n",
       "    <tr>\n",
       "      <th>Hamburg</th>\n",
       "      <td>666</td>\n",
       "      <td>349</td>\n",
       "      <td>['Italian']</td>\n",
       "      <td>29</td>\n",
       "    </tr>\n",
       "    <tr>\n",
       "      <th>Helsinki</th>\n",
       "      <td>373</td>\n",
       "      <td>235</td>\n",
       "      <td>['Bar', 'Pub']</td>\n",
       "      <td>11</td>\n",
       "    </tr>\n",
       "    <tr>\n",
       "      <th>Krakow</th>\n",
       "      <td>436</td>\n",
       "      <td>282</td>\n",
       "      <td>['Polish', 'European']</td>\n",
       "      <td>42</td>\n",
       "    </tr>\n",
       "    <tr>\n",
       "      <th>Lisbon</th>\n",
       "      <td>1248</td>\n",
       "      <td>513</td>\n",
       "      <td>['European', 'Portuguese']</td>\n",
       "      <td>269</td>\n",
       "    </tr>\n",
       "    <tr>\n",
       "      <th>Ljubljana</th>\n",
       "      <td>189</td>\n",
       "      <td>146</td>\n",
       "      <td>['European', 'Slovenian']</td>\n",
       "      <td>10</td>\n",
       "    </tr>\n",
       "    <tr>\n",
       "      <th>London</th>\n",
       "      <td>5983</td>\n",
       "      <td>2220</td>\n",
       "      <td>['Bar', 'British', 'Pub']</td>\n",
       "      <td>209</td>\n",
       "    </tr>\n",
       "    <tr>\n",
       "      <th>Luxembourg</th>\n",
       "      <td>222</td>\n",
       "      <td>143</td>\n",
       "      <td>['French']</td>\n",
       "      <td>11</td>\n",
       "    </tr>\n",
       "    <tr>\n",
       "      <th>Lyon</th>\n",
       "      <td>747</td>\n",
       "      <td>255</td>\n",
       "      <td>['French']</td>\n",
       "      <td>192</td>\n",
       "    </tr>\n",
       "    <tr>\n",
       "      <th>Madrid</th>\n",
       "      <td>2634</td>\n",
       "      <td>857</td>\n",
       "      <td>['Spanish']</td>\n",
       "      <td>514</td>\n",
       "    </tr>\n",
       "    <tr>\n",
       "      <th>Milan</th>\n",
       "      <td>1986</td>\n",
       "      <td>700</td>\n",
       "      <td>['Italian']</td>\n",
       "      <td>335</td>\n",
       "    </tr>\n",
       "    <tr>\n",
       "      <th>Munich</th>\n",
       "      <td>816</td>\n",
       "      <td>429</td>\n",
       "      <td>['Italian']</td>\n",
       "      <td>34</td>\n",
       "    </tr>\n",
       "    <tr>\n",
       "      <th>Oporto</th>\n",
       "      <td>492</td>\n",
       "      <td>246</td>\n",
       "      <td>['European', 'Portuguese']</td>\n",
       "      <td>100</td>\n",
       "    </tr>\n",
       "    <tr>\n",
       "      <th>Oslo</th>\n",
       "      <td>388</td>\n",
       "      <td>292</td>\n",
       "      <td>['Pub']</td>\n",
       "      <td>10</td>\n",
       "    </tr>\n",
       "    <tr>\n",
       "      <th>Paris</th>\n",
       "      <td>4800</td>\n",
       "      <td>1153</td>\n",
       "      <td>['French']</td>\n",
       "      <td>674</td>\n",
       "    </tr>\n",
       "    <tr>\n",
       "      <th>Prague</th>\n",
       "      <td>1509</td>\n",
       "      <td>651</td>\n",
       "      <td>['European', 'Czech']</td>\n",
       "      <td>228</td>\n",
       "    </tr>\n",
       "    <tr>\n",
       "      <th>Rome</th>\n",
       "      <td>2270</td>\n",
       "      <td>854</td>\n",
       "      <td>['Italian']</td>\n",
       "      <td>230</td>\n",
       "    </tr>\n",
       "    <tr>\n",
       "      <th>Stockholm</th>\n",
       "      <td>723</td>\n",
       "      <td>390</td>\n",
       "      <td>['European', 'Swedish']</td>\n",
       "      <td>35</td>\n",
       "    </tr>\n",
       "    <tr>\n",
       "      <th>Vienna</th>\n",
       "      <td>1041</td>\n",
       "      <td>573</td>\n",
       "      <td>['Austrian', 'European']</td>\n",
       "      <td>90</td>\n",
       "    </tr>\n",
       "    <tr>\n",
       "      <th>Warsaw</th>\n",
       "      <td>671</td>\n",
       "      <td>381</td>\n",
       "      <td>['Polish', 'European']</td>\n",
       "      <td>52</td>\n",
       "    </tr>\n",
       "    <tr>\n",
       "      <th>Zurich</th>\n",
       "      <td>528</td>\n",
       "      <td>362</td>\n",
       "      <td>['Swiss', 'European']</td>\n",
       "      <td>19</td>\n",
       "    </tr>\n",
       "  </tbody>\n",
       "</table>\n",
       "</div>"
      ],
      "text/plain": [
       "           Cuisine Style                                                     \n",
       "                   count unique                                      top freq\n",
       "City                                                                         \n",
       "Amsterdam           1170    717                    ['Dutch', 'European']   33\n",
       "Athens               627    302                                ['Greek']   92\n",
       "Barcelona           2608   1021                              ['Spanish']  249\n",
       "Berlin              1793    784                              ['Italian']   96\n",
       "Bratislava           236    162                                  ['Pub']   15\n",
       "Brussels             992    491                  ['Belgian', 'European']   54\n",
       "Budapest             819    509                ['European', 'Hungarian']   72\n",
       "Copenhagen           616    360                   ['European', 'Danish']   21\n",
       "Dublin               704    440                  ['Irish', 'Bar', 'Pub']   24\n",
       "Edinburgh            649    412                                 ['Cafe']   17\n",
       "Geneva               474    261  ['French', 'Mediterranean', 'European']   23\n",
       "Hamburg              666    349                              ['Italian']   29\n",
       "Helsinki             373    235                           ['Bar', 'Pub']   11\n",
       "Krakow               436    282                   ['Polish', 'European']   42\n",
       "Lisbon              1248    513               ['European', 'Portuguese']  269\n",
       "Ljubljana            189    146                ['European', 'Slovenian']   10\n",
       "London              5983   2220                ['Bar', 'British', 'Pub']  209\n",
       "Luxembourg           222    143                               ['French']   11\n",
       "Lyon                 747    255                               ['French']  192\n",
       "Madrid              2634    857                              ['Spanish']  514\n",
       "Milan               1986    700                              ['Italian']  335\n",
       "Munich               816    429                              ['Italian']   34\n",
       "Oporto               492    246               ['European', 'Portuguese']  100\n",
       "Oslo                 388    292                                  ['Pub']   10\n",
       "Paris               4800   1153                               ['French']  674\n",
       "Prague              1509    651                    ['European', 'Czech']  228\n",
       "Rome                2270    854                              ['Italian']  230\n",
       "Stockholm            723    390                  ['European', 'Swedish']   35\n",
       "Vienna              1041    573                 ['Austrian', 'European']   90\n",
       "Warsaw               671    381                   ['Polish', 'European']   52\n",
       "Zurich               528    362                    ['Swiss', 'European']   19"
      ]
     },
     "execution_count": 12,
     "metadata": {},
     "output_type": "execute_result"
    }
   ],
   "source": [
    "data[['City', 'Cuisine Style']].groupby('City').describe()"
   ]
  },
  {
   "cell_type": "code",
   "execution_count": 13,
   "metadata": {
    "execution": {
     "iopub.execute_input": "2021-07-09T14:07:38.861855Z",
     "iopub.status.busy": "2021-07-09T14:07:38.861489Z",
     "iopub.status.idle": "2021-07-09T14:07:38.915918Z",
     "shell.execute_reply": "2021-07-09T14:07:38.914928Z",
     "shell.execute_reply.started": "2021-07-09T14:07:38.861783Z"
    }
   },
   "outputs": [
    {
     "data": {
      "text/plain": [
       "Cuisine Style\n",
       "['Bar', 'British', 'Pub']                           209\n",
       "['British']                                         148\n",
       "['Cafe']                                            122\n",
       "['Indian']                                           99\n",
       "['Italian']                                          93\n",
       "['Bar', 'British', 'Pub', 'Vegetarian Friendly']     87\n",
       "['Chinese']                                          75\n",
       "['Chinese', 'Asian']                                 68\n",
       "['Bar', 'Pub']                                       59\n",
       "['Fast Food']                                        55\n",
       "Name: Cuisine Style, dtype: int64"
      ]
     },
     "execution_count": 13,
     "metadata": {},
     "output_type": "execute_result"
    }
   ],
   "source": [
    "data[['City', 'Cuisine Style']].groupby('City')['Cuisine Style'].value_counts()['London'].head(10)"
   ]
  },
  {
   "cell_type": "code",
   "execution_count": 14,
   "metadata": {
    "execution": {
     "iopub.execute_input": "2021-07-09T14:07:38.917894Z",
     "iopub.status.busy": "2021-07-09T14:07:38.917300Z",
     "iopub.status.idle": "2021-07-09T14:07:38.967642Z",
     "shell.execute_reply": "2021-07-09T14:07:38.966448Z",
     "shell.execute_reply.started": "2021-07-09T14:07:38.917829Z"
    }
   },
   "outputs": [
    {
     "data": {
      "text/plain": [
       "\"['Bar', 'British', 'Pub']\""
      ]
     },
     "execution_count": 14,
     "metadata": {},
     "output_type": "execute_result"
    }
   ],
   "source": [
    "data[['City', 'Cuisine Style']].groupby('City')['Cuisine Style'].value_counts()['London'].head(1).index[0]"
   ]
  },
  {
   "cell_type": "markdown",
   "metadata": {},
   "source": [
    "Посчитаем количество встречающихся стилей кухонь в предлагаемых наборах стилей."
   ]
  },
  {
   "cell_type": "code",
   "execution_count": 15,
   "metadata": {
    "execution": {
     "iopub.execute_input": "2021-07-09T14:07:38.970985Z",
     "iopub.status.busy": "2021-07-09T14:07:38.970604Z",
     "iopub.status.idle": "2021-07-09T14:07:39.106293Z",
     "shell.execute_reply": "2021-07-09T14:07:39.105273Z",
     "shell.execute_reply.started": "2021-07-09T14:07:38.970923Z"
    }
   },
   "outputs": [
    {
     "data": {
      "text/plain": [
       "{'Salvadoran': 1,\n",
       " 'Xinjiang': 1,\n",
       " 'Burmese': 1,\n",
       " 'Latvian': 1,\n",
       " 'Yunnan': 2,\n",
       " 'Polynesian': 2,\n",
       " 'Fujian': 2,\n",
       " 'Welsh': 3,\n",
       " 'Azerbaijani': 3,\n",
       " 'Caucasian': 4,\n",
       " 'Native American': 5,\n",
       " 'Uzbek': 5,\n",
       " 'Canadian': 7,\n",
       " 'New Zealand': 7,\n",
       " 'Ecuadorean': 8,\n",
       " 'Albanian': 8,\n",
       " 'Minority Chinese': 12,\n",
       " 'Central Asian': 12,\n",
       " 'Romanian': 13,\n",
       " 'Chilean': 16,\n",
       " 'Armenian': 17,\n",
       " 'Filipino': 17,\n",
       " 'Georgian': 18,\n",
       " 'Mongolian': 20,\n",
       " 'Ukrainian': 20,\n",
       " 'Singaporean': 21,\n",
       " 'Cambodian': 22,\n",
       " 'Tunisian': 23,\n",
       " 'Hawaiian': 23,\n",
       " 'Southwestern': 24,\n",
       " 'Egyptian': 24,\n",
       " 'Afghani': 27,\n",
       " 'Cajun & Creole': 27,\n",
       " 'Tibetan': 29,\n",
       " 'Colombian': 30,\n",
       " 'Sri Lankan': 30,\n",
       " 'Taiwanese': 30,\n",
       " 'Cuban': 32,\n",
       " 'Croatian': 33,\n",
       " 'Australian': 36,\n",
       " 'Jamaican': 36,\n",
       " 'Malaysian': 38,\n",
       " 'Ethiopian': 51,\n",
       " 'Venezuelan': 51,\n",
       " 'Kosher': 56,\n",
       " 'Arabic': 58,\n",
       " 'Russian': 66,\n",
       " 'Indonesian': 71,\n",
       " 'Persian': 77,\n",
       " 'Slovenian': 85,\n",
       " 'Israeli': 90,\n",
       " 'Norwegian': 96,\n",
       " 'Bangladeshi': 100,\n",
       " 'Balti': 104,\n",
       " 'Nepali': 121,\n",
       " 'Caribbean': 124,\n",
       " 'Peruvian': 130,\n",
       " 'Pakistani': 140,\n",
       " 'Brazilian': 152,\n",
       " 'Central American': 168,\n",
       " 'Moroccan': 173,\n",
       " 'African': 193,\n",
       " 'Scottish': 199,\n",
       " 'Korean': 206,\n",
       " 'Argentinean': 214,\n",
       " 'Swiss': 223,\n",
       " 'Swedish': 223,\n",
       " 'Danish': 225,\n",
       " 'Brew Pub': 299,\n",
       " 'Belgian': 335,\n",
       " 'Street Food': 336,\n",
       " 'Irish': 352,\n",
       " 'Dutch': 368,\n",
       " 'Latin': 373,\n",
       " 'Diner': 375,\n",
       " 'Lebanese': 397,\n",
       " 'Hungarian': 444,\n",
       " 'Scandinavian': 449,\n",
       " 'Polish': 453,\n",
       " 'Austrian': 462,\n",
       " 'Delicatessen': 473,\n",
       " 'South American': 490,\n",
       " 'Mexican': 572,\n",
       " 'Turkish': 574,\n",
       " 'Gastropub': 608,\n",
       " 'Grill': 617,\n",
       " 'Vietnamese': 622,\n",
       " 'Eastern European': 629,\n",
       " 'Soups': 630,\n",
       " 'Contemporary': 652,\n",
       " 'Barbecue': 710,\n",
       " 'Steakhouse': 729,\n",
       " 'Czech': 745,\n",
       " 'Fusion': 748,\n",
       " 'Healthy': 758,\n",
       " 'Greek': 768,\n",
       " 'Halal': 773,\n",
       " 'German': 820,\n",
       " 'Wine Bar': 877,\n",
       " 'Thai': 923,\n",
       " 'Middle Eastern': 980,\n",
       " 'Indian': 1328,\n",
       " 'Portuguese': 1385,\n",
       " 'Chinese': 1446,\n",
       " 'Sushi': 1450,\n",
       " 'American': 1642,\n",
       " 'Central European': 1727,\n",
       " 'Japanese': 1860,\n",
       " 'Seafood': 1878,\n",
       " 'International': 1966,\n",
       " 'British': 1992,\n",
       " 'Fast Food': 2122,\n",
       " 'Cafe': 2883,\n",
       " 'Pub': 3058,\n",
       " 'Spanish': 3456,\n",
       " 'Pizza': 3502,\n",
       " 'Asian': 3786,\n",
       " 'French': 3970,\n",
       " 'Bar': 4094,\n",
       " 'Gluten Free Options': 5185,\n",
       " 'Vegan Options': 5684,\n",
       " 'Italian': 7433,\n",
       " 'Mediterranean': 7820,\n",
       " 'European': 12561,\n",
       " 'Vegetarian Friendly': 14021}"
      ]
     },
     "execution_count": 15,
     "metadata": {},
     "output_type": "execute_result"
    }
   ],
   "source": [
    "cuisine_dict = {}\n",
    "styles_count = []\n",
    "for style_set in data[data['Cuisine Style'].notna()]['Cuisine Style']:\n",
    "    style_set_list = style_set.replace('\"', '').replace('[', '').replace(']', '').replace(\"'\", \"\").\\\n",
    "                    replace(', ', ',').split(',') \n",
    "    styles_count.append(len(style_set_list))\n",
    "    for cuisine_style in style_set_list:\n",
    "        if cuisine_style in cuisine_dict:\n",
    "            cuisine_dict[cuisine_style] += 1\n",
    "        else:\n",
    "            cuisine_dict[cuisine_style] = 1\n",
    "\n",
    "sorted_cuisine_dict = {}\n",
    "sorted_keys = sorted(cuisine_dict, key=cuisine_dict.get)  # [1, 3, 2]\n",
    "\n",
    "for w in sorted_keys:\n",
    "    sorted_cuisine_dict[w] = cuisine_dict[w]\n",
    "\n",
    "sorted_cuisine_dict"
   ]
  },
  {
   "cell_type": "markdown",
   "metadata": {},
   "source": [
    "## 'Price Range'"
   ]
  },
  {
   "cell_type": "code",
   "execution_count": 16,
   "metadata": {
    "execution": {
     "iopub.execute_input": "2021-07-09T14:07:39.107981Z",
     "iopub.status.busy": "2021-07-09T14:07:39.107691Z",
     "iopub.status.idle": "2021-07-09T14:07:39.121216Z",
     "shell.execute_reply": "2021-07-09T14:07:39.120268Z",
     "shell.execute_reply.started": "2021-07-09T14:07:39.107923Z"
    }
   },
   "outputs": [
    {
     "data": {
      "text/plain": [
       "$$ - $$$    23041\n",
       "NaN         17361\n",
       "$            7816\n",
       "$$$$         1782\n",
       "Name: Price Range, dtype: int64"
      ]
     },
     "execution_count": 16,
     "metadata": {},
     "output_type": "execute_result"
    }
   ],
   "source": [
    "data['Price Range'].value_counts(dropna=False)"
   ]
  },
  {
   "cell_type": "code",
   "execution_count": 17,
   "metadata": {
    "execution": {
     "iopub.execute_input": "2021-07-09T14:07:39.123415Z",
     "iopub.status.busy": "2021-07-09T14:07:39.123033Z",
     "iopub.status.idle": "2021-07-09T14:07:39.317283Z",
     "shell.execute_reply": "2021-07-09T14:07:39.316533Z",
     "shell.execute_reply.started": "2021-07-09T14:07:39.123331Z"
    }
   },
   "outputs": [
    {
     "data": {
      "text/html": [
       "<div>\n",
       "<style scoped>\n",
       "    .dataframe tbody tr th:only-of-type {\n",
       "        vertical-align: middle;\n",
       "    }\n",
       "\n",
       "    .dataframe tbody tr th {\n",
       "        vertical-align: top;\n",
       "    }\n",
       "\n",
       "    .dataframe thead tr th {\n",
       "        text-align: left;\n",
       "    }\n",
       "\n",
       "    .dataframe thead tr:last-of-type th {\n",
       "        text-align: right;\n",
       "    }\n",
       "</style>\n",
       "<table border=\"1\" class=\"dataframe\">\n",
       "  <thead>\n",
       "    <tr>\n",
       "      <th></th>\n",
       "      <th colspan=\"4\" halign=\"left\">Price Range</th>\n",
       "    </tr>\n",
       "    <tr>\n",
       "      <th></th>\n",
       "      <th>count</th>\n",
       "      <th>unique</th>\n",
       "      <th>top</th>\n",
       "      <th>freq</th>\n",
       "    </tr>\n",
       "    <tr>\n",
       "      <th>City</th>\n",
       "      <th></th>\n",
       "      <th></th>\n",
       "      <th></th>\n",
       "      <th></th>\n",
       "    </tr>\n",
       "  </thead>\n",
       "  <tbody>\n",
       "    <tr>\n",
       "      <th>Amsterdam</th>\n",
       "      <td>1052</td>\n",
       "      <td>3</td>\n",
       "      <td>$$ - $$$</td>\n",
       "      <td>794</td>\n",
       "    </tr>\n",
       "    <tr>\n",
       "      <th>Athens</th>\n",
       "      <td>532</td>\n",
       "      <td>3</td>\n",
       "      <td>$$ - $$$</td>\n",
       "      <td>328</td>\n",
       "    </tr>\n",
       "    <tr>\n",
       "      <th>Barcelona</th>\n",
       "      <td>2257</td>\n",
       "      <td>3</td>\n",
       "      <td>$$ - $$$</td>\n",
       "      <td>1561</td>\n",
       "    </tr>\n",
       "    <tr>\n",
       "      <th>Berlin</th>\n",
       "      <td>1448</td>\n",
       "      <td>3</td>\n",
       "      <td>$$ - $$$</td>\n",
       "      <td>964</td>\n",
       "    </tr>\n",
       "    <tr>\n",
       "      <th>Bratislava</th>\n",
       "      <td>176</td>\n",
       "      <td>3</td>\n",
       "      <td>$$ - $$$</td>\n",
       "      <td>124</td>\n",
       "    </tr>\n",
       "    <tr>\n",
       "      <th>Brussels</th>\n",
       "      <td>858</td>\n",
       "      <td>3</td>\n",
       "      <td>$$ - $$$</td>\n",
       "      <td>639</td>\n",
       "    </tr>\n",
       "    <tr>\n",
       "      <th>Budapest</th>\n",
       "      <td>699</td>\n",
       "      <td>3</td>\n",
       "      <td>$$ - $$$</td>\n",
       "      <td>446</td>\n",
       "    </tr>\n",
       "    <tr>\n",
       "      <th>Copenhagen</th>\n",
       "      <td>542</td>\n",
       "      <td>3</td>\n",
       "      <td>$$ - $$$</td>\n",
       "      <td>414</td>\n",
       "    </tr>\n",
       "    <tr>\n",
       "      <th>Dublin</th>\n",
       "      <td>634</td>\n",
       "      <td>3</td>\n",
       "      <td>$$ - $$$</td>\n",
       "      <td>466</td>\n",
       "    </tr>\n",
       "    <tr>\n",
       "      <th>Edinburgh</th>\n",
       "      <td>600</td>\n",
       "      <td>3</td>\n",
       "      <td>$$ - $$$</td>\n",
       "      <td>388</td>\n",
       "    </tr>\n",
       "    <tr>\n",
       "      <th>Geneva</th>\n",
       "      <td>402</td>\n",
       "      <td>3</td>\n",
       "      <td>$$ - $$$</td>\n",
       "      <td>318</td>\n",
       "    </tr>\n",
       "    <tr>\n",
       "      <th>Hamburg</th>\n",
       "      <td>525</td>\n",
       "      <td>3</td>\n",
       "      <td>$$ - $$$</td>\n",
       "      <td>388</td>\n",
       "    </tr>\n",
       "    <tr>\n",
       "      <th>Helsinki</th>\n",
       "      <td>317</td>\n",
       "      <td>3</td>\n",
       "      <td>$$ - $$$</td>\n",
       "      <td>237</td>\n",
       "    </tr>\n",
       "    <tr>\n",
       "      <th>Krakow</th>\n",
       "      <td>377</td>\n",
       "      <td>3</td>\n",
       "      <td>$$ - $$$</td>\n",
       "      <td>220</td>\n",
       "    </tr>\n",
       "    <tr>\n",
       "      <th>Lisbon</th>\n",
       "      <td>1085</td>\n",
       "      <td>3</td>\n",
       "      <td>$$ - $$$</td>\n",
       "      <td>704</td>\n",
       "    </tr>\n",
       "    <tr>\n",
       "      <th>Ljubljana</th>\n",
       "      <td>158</td>\n",
       "      <td>3</td>\n",
       "      <td>$$ - $$$</td>\n",
       "      <td>104</td>\n",
       "    </tr>\n",
       "    <tr>\n",
       "      <th>London</th>\n",
       "      <td>5196</td>\n",
       "      <td>3</td>\n",
       "      <td>$$ - $$$</td>\n",
       "      <td>3651</td>\n",
       "    </tr>\n",
       "    <tr>\n",
       "      <th>Luxembourg</th>\n",
       "      <td>189</td>\n",
       "      <td>3</td>\n",
       "      <td>$$ - $$$</td>\n",
       "      <td>163</td>\n",
       "    </tr>\n",
       "    <tr>\n",
       "      <th>Lyon</th>\n",
       "      <td>597</td>\n",
       "      <td>3</td>\n",
       "      <td>$$ - $$$</td>\n",
       "      <td>469</td>\n",
       "    </tr>\n",
       "    <tr>\n",
       "      <th>Madrid</th>\n",
       "      <td>2122</td>\n",
       "      <td>3</td>\n",
       "      <td>$$ - $$$</td>\n",
       "      <td>1560</td>\n",
       "    </tr>\n",
       "    <tr>\n",
       "      <th>Milan</th>\n",
       "      <td>1620</td>\n",
       "      <td>3</td>\n",
       "      <td>$$ - $$$</td>\n",
       "      <td>990</td>\n",
       "    </tr>\n",
       "    <tr>\n",
       "      <th>Munich</th>\n",
       "      <td>726</td>\n",
       "      <td>3</td>\n",
       "      <td>$$ - $$$</td>\n",
       "      <td>554</td>\n",
       "    </tr>\n",
       "    <tr>\n",
       "      <th>Oporto</th>\n",
       "      <td>441</td>\n",
       "      <td>3</td>\n",
       "      <td>$$ - $$$</td>\n",
       "      <td>259</td>\n",
       "    </tr>\n",
       "    <tr>\n",
       "      <th>Oslo</th>\n",
       "      <td>334</td>\n",
       "      <td>3</td>\n",
       "      <td>$$ - $$$</td>\n",
       "      <td>250</td>\n",
       "    </tr>\n",
       "    <tr>\n",
       "      <th>Paris</th>\n",
       "      <td>4121</td>\n",
       "      <td>3</td>\n",
       "      <td>$$ - $$$</td>\n",
       "      <td>3109</td>\n",
       "    </tr>\n",
       "    <tr>\n",
       "      <th>Prague</th>\n",
       "      <td>1117</td>\n",
       "      <td>3</td>\n",
       "      <td>$$ - $$$</td>\n",
       "      <td>743</td>\n",
       "    </tr>\n",
       "    <tr>\n",
       "      <th>Rome</th>\n",
       "      <td>2060</td>\n",
       "      <td>3</td>\n",
       "      <td>$$ - $$$</td>\n",
       "      <td>1317</td>\n",
       "    </tr>\n",
       "    <tr>\n",
       "      <th>Stockholm</th>\n",
       "      <td>554</td>\n",
       "      <td>3</td>\n",
       "      <td>$$ - $$$</td>\n",
       "      <td>458</td>\n",
       "    </tr>\n",
       "    <tr>\n",
       "      <th>Vienna</th>\n",
       "      <td>866</td>\n",
       "      <td>3</td>\n",
       "      <td>$$ - $$$</td>\n",
       "      <td>665</td>\n",
       "    </tr>\n",
       "    <tr>\n",
       "      <th>Warsaw</th>\n",
       "      <td>562</td>\n",
       "      <td>3</td>\n",
       "      <td>$$ - $$$</td>\n",
       "      <td>393</td>\n",
       "    </tr>\n",
       "    <tr>\n",
       "      <th>Zurich</th>\n",
       "      <td>472</td>\n",
       "      <td>3</td>\n",
       "      <td>$$ - $$$</td>\n",
       "      <td>365</td>\n",
       "    </tr>\n",
       "  </tbody>\n",
       "</table>\n",
       "</div>"
      ],
      "text/plain": [
       "           Price Range                       \n",
       "                 count unique       top  freq\n",
       "City                                         \n",
       "Amsterdam         1052      3  $$ - $$$   794\n",
       "Athens             532      3  $$ - $$$   328\n",
       "Barcelona         2257      3  $$ - $$$  1561\n",
       "Berlin            1448      3  $$ - $$$   964\n",
       "Bratislava         176      3  $$ - $$$   124\n",
       "Brussels           858      3  $$ - $$$   639\n",
       "Budapest           699      3  $$ - $$$   446\n",
       "Copenhagen         542      3  $$ - $$$   414\n",
       "Dublin             634      3  $$ - $$$   466\n",
       "Edinburgh          600      3  $$ - $$$   388\n",
       "Geneva             402      3  $$ - $$$   318\n",
       "Hamburg            525      3  $$ - $$$   388\n",
       "Helsinki           317      3  $$ - $$$   237\n",
       "Krakow             377      3  $$ - $$$   220\n",
       "Lisbon            1085      3  $$ - $$$   704\n",
       "Ljubljana          158      3  $$ - $$$   104\n",
       "London            5196      3  $$ - $$$  3651\n",
       "Luxembourg         189      3  $$ - $$$   163\n",
       "Lyon               597      3  $$ - $$$   469\n",
       "Madrid            2122      3  $$ - $$$  1560\n",
       "Milan             1620      3  $$ - $$$   990\n",
       "Munich             726      3  $$ - $$$   554\n",
       "Oporto             441      3  $$ - $$$   259\n",
       "Oslo               334      3  $$ - $$$   250\n",
       "Paris             4121      3  $$ - $$$  3109\n",
       "Prague            1117      3  $$ - $$$   743\n",
       "Rome              2060      3  $$ - $$$  1317\n",
       "Stockholm          554      3  $$ - $$$   458\n",
       "Vienna             866      3  $$ - $$$   665\n",
       "Warsaw             562      3  $$ - $$$   393\n",
       "Zurich             472      3  $$ - $$$   365"
      ]
     },
     "execution_count": 17,
     "metadata": {},
     "output_type": "execute_result"
    }
   ],
   "source": [
    "data[['City', 'Price Range']].groupby('City').describe()"
   ]
  },
  {
   "cell_type": "markdown",
   "metadata": {},
   "source": [
    "Как видно ценовой диапазон, что в общей выборке, что по городам в основном средний '\\$\\$ \\- \\$\\\\$\\\\$'."
   ]
  },
  {
   "cell_type": "markdown",
   "metadata": {},
   "source": [
    "## 'Number of Revews'"
   ]
  },
  {
   "cell_type": "code",
   "execution_count": 18,
   "metadata": {
    "execution": {
     "iopub.execute_input": "2021-07-09T14:07:39.319802Z",
     "iopub.status.busy": "2021-07-09T14:07:39.319453Z",
     "iopub.status.idle": "2021-07-09T14:07:39.331819Z",
     "shell.execute_reply": "2021-07-09T14:07:39.331079Z",
     "shell.execute_reply.started": "2021-07-09T14:07:39.319746Z"
    }
   },
   "outputs": [
    {
     "data": {
      "text/plain": [
       "NaN       3200\n",
       "2.0       2403\n",
       "3.0       2042\n",
       "4.0       1707\n",
       "5.0       1471\n",
       "          ... \n",
       "5216.0       1\n",
       "1932.0       1\n",
       "1050.0       1\n",
       "1145.0       1\n",
       "1471.0       1\n",
       "Name: Number of Reviews, Length: 1574, dtype: int64"
      ]
     },
     "execution_count": 18,
     "metadata": {},
     "output_type": "execute_result"
    }
   ],
   "source": [
    "data['Number of Reviews'].value_counts(dropna=False)"
   ]
  },
  {
   "cell_type": "code",
   "execution_count": 19,
   "metadata": {
    "execution": {
     "iopub.execute_input": "2021-07-09T14:07:39.333223Z",
     "iopub.status.busy": "2021-07-09T14:07:39.332959Z",
     "iopub.status.idle": "2021-07-09T14:07:39.347986Z",
     "shell.execute_reply": "2021-07-09T14:07:39.346833Z",
     "shell.execute_reply.started": "2021-07-09T14:07:39.333179Z"
    }
   },
   "outputs": [
    {
     "data": {
      "text/plain": [
       "count    46800.000000\n",
       "mean       124.471197\n",
       "std        294.114345\n",
       "min          2.000000\n",
       "25%          9.000000\n",
       "50%         33.000000\n",
       "75%        115.000000\n",
       "max       9660.000000\n",
       "Name: Number of Reviews, dtype: float64"
      ]
     },
     "execution_count": 19,
     "metadata": {},
     "output_type": "execute_result"
    }
   ],
   "source": [
    "data['Number of Reviews'].describe()"
   ]
  },
  {
   "cell_type": "code",
   "execution_count": 20,
   "metadata": {
    "execution": {
     "iopub.execute_input": "2021-07-09T14:07:39.349653Z",
     "iopub.status.busy": "2021-07-09T14:07:39.349427Z",
     "iopub.status.idle": "2021-07-09T14:07:39.532111Z",
     "shell.execute_reply": "2021-07-09T14:07:39.531136Z",
     "shell.execute_reply.started": "2021-07-09T14:07:39.349619Z"
    }
   },
   "outputs": [
    {
     "data": {
      "text/html": [
       "<div>\n",
       "<style scoped>\n",
       "    .dataframe tbody tr th:only-of-type {\n",
       "        vertical-align: middle;\n",
       "    }\n",
       "\n",
       "    .dataframe tbody tr th {\n",
       "        vertical-align: top;\n",
       "    }\n",
       "\n",
       "    .dataframe thead tr th {\n",
       "        text-align: left;\n",
       "    }\n",
       "\n",
       "    .dataframe thead tr:last-of-type th {\n",
       "        text-align: right;\n",
       "    }\n",
       "</style>\n",
       "<table border=\"1\" class=\"dataframe\">\n",
       "  <thead>\n",
       "    <tr>\n",
       "      <th></th>\n",
       "      <th colspan=\"8\" halign=\"left\">Number of Reviews</th>\n",
       "    </tr>\n",
       "    <tr>\n",
       "      <th></th>\n",
       "      <th>count</th>\n",
       "      <th>mean</th>\n",
       "      <th>std</th>\n",
       "      <th>min</th>\n",
       "      <th>25%</th>\n",
       "      <th>50%</th>\n",
       "      <th>75%</th>\n",
       "      <th>max</th>\n",
       "    </tr>\n",
       "    <tr>\n",
       "      <th>City</th>\n",
       "      <th></th>\n",
       "      <th></th>\n",
       "      <th></th>\n",
       "      <th></th>\n",
       "      <th></th>\n",
       "      <th></th>\n",
       "      <th></th>\n",
       "      <th></th>\n",
       "    </tr>\n",
       "  </thead>\n",
       "  <tbody>\n",
       "    <tr>\n",
       "      <th>Amsterdam</th>\n",
       "      <td>1303.0</td>\n",
       "      <td>148.744436</td>\n",
       "      <td>330.452299</td>\n",
       "      <td>2.0</td>\n",
       "      <td>12.0</td>\n",
       "      <td>46.0</td>\n",
       "      <td>148.00</td>\n",
       "      <td>6777.0</td>\n",
       "    </tr>\n",
       "    <tr>\n",
       "      <th>Athens</th>\n",
       "      <td>721.0</td>\n",
       "      <td>93.987517</td>\n",
       "      <td>282.863372</td>\n",
       "      <td>2.0</td>\n",
       "      <td>7.0</td>\n",
       "      <td>22.0</td>\n",
       "      <td>67.00</td>\n",
       "      <td>4234.0</td>\n",
       "    </tr>\n",
       "    <tr>\n",
       "      <th>Barcelona</th>\n",
       "      <td>3165.0</td>\n",
       "      <td>135.683096</td>\n",
       "      <td>308.794769</td>\n",
       "      <td>2.0</td>\n",
       "      <td>9.0</td>\n",
       "      <td>35.0</td>\n",
       "      <td>128.00</td>\n",
       "      <td>4996.0</td>\n",
       "    </tr>\n",
       "    <tr>\n",
       "      <th>Berlin</th>\n",
       "      <td>2445.0</td>\n",
       "      <td>63.772188</td>\n",
       "      <td>165.759296</td>\n",
       "      <td>2.0</td>\n",
       "      <td>6.0</td>\n",
       "      <td>17.0</td>\n",
       "      <td>51.00</td>\n",
       "      <td>2572.0</td>\n",
       "    </tr>\n",
       "    <tr>\n",
       "      <th>Bratislava</th>\n",
       "      <td>323.0</td>\n",
       "      <td>51.616099</td>\n",
       "      <td>171.215552</td>\n",
       "      <td>2.0</td>\n",
       "      <td>4.0</td>\n",
       "      <td>10.0</td>\n",
       "      <td>30.00</td>\n",
       "      <td>2578.0</td>\n",
       "    </tr>\n",
       "    <tr>\n",
       "      <th>Brussels</th>\n",
       "      <td>1230.0</td>\n",
       "      <td>92.647154</td>\n",
       "      <td>256.491108</td>\n",
       "      <td>2.0</td>\n",
       "      <td>8.0</td>\n",
       "      <td>28.0</td>\n",
       "      <td>90.75</td>\n",
       "      <td>6437.0</td>\n",
       "    </tr>\n",
       "    <tr>\n",
       "      <th>Budapest</th>\n",
       "      <td>935.0</td>\n",
       "      <td>158.680214</td>\n",
       "      <td>453.755563</td>\n",
       "      <td>2.0</td>\n",
       "      <td>8.0</td>\n",
       "      <td>24.0</td>\n",
       "      <td>113.00</td>\n",
       "      <td>7575.0</td>\n",
       "    </tr>\n",
       "    <tr>\n",
       "      <th>Copenhagen</th>\n",
       "      <td>775.0</td>\n",
       "      <td>95.058065</td>\n",
       "      <td>189.314438</td>\n",
       "      <td>2.0</td>\n",
       "      <td>9.0</td>\n",
       "      <td>33.0</td>\n",
       "      <td>105.50</td>\n",
       "      <td>3426.0</td>\n",
       "    </tr>\n",
       "    <tr>\n",
       "      <th>Dublin</th>\n",
       "      <td>796.0</td>\n",
       "      <td>154.276382</td>\n",
       "      <td>314.491662</td>\n",
       "      <td>2.0</td>\n",
       "      <td>12.0</td>\n",
       "      <td>44.0</td>\n",
       "      <td>157.00</td>\n",
       "      <td>3491.0</td>\n",
       "    </tr>\n",
       "    <tr>\n",
       "      <th>Edinburgh</th>\n",
       "      <td>724.0</td>\n",
       "      <td>237.711326</td>\n",
       "      <td>441.284317</td>\n",
       "      <td>2.0</td>\n",
       "      <td>14.0</td>\n",
       "      <td>69.5</td>\n",
       "      <td>269.75</td>\n",
       "      <td>4567.0</td>\n",
       "    </tr>\n",
       "    <tr>\n",
       "      <th>Geneva</th>\n",
       "      <td>548.0</td>\n",
       "      <td>62.173358</td>\n",
       "      <td>117.204742</td>\n",
       "      <td>2.0</td>\n",
       "      <td>9.0</td>\n",
       "      <td>30.5</td>\n",
       "      <td>74.00</td>\n",
       "      <td>1624.0</td>\n",
       "    </tr>\n",
       "    <tr>\n",
       "      <th>Hamburg</th>\n",
       "      <td>1078.0</td>\n",
       "      <td>45.318182</td>\n",
       "      <td>89.372650</td>\n",
       "      <td>2.0</td>\n",
       "      <td>6.0</td>\n",
       "      <td>16.0</td>\n",
       "      <td>42.00</td>\n",
       "      <td>845.0</td>\n",
       "    </tr>\n",
       "    <tr>\n",
       "      <th>Helsinki</th>\n",
       "      <td>447.0</td>\n",
       "      <td>66.020134</td>\n",
       "      <td>139.741745</td>\n",
       "      <td>2.0</td>\n",
       "      <td>8.0</td>\n",
       "      <td>21.0</td>\n",
       "      <td>61.50</td>\n",
       "      <td>1488.0</td>\n",
       "    </tr>\n",
       "    <tr>\n",
       "      <th>Krakow</th>\n",
       "      <td>518.0</td>\n",
       "      <td>130.569498</td>\n",
       "      <td>312.625956</td>\n",
       "      <td>2.0</td>\n",
       "      <td>8.0</td>\n",
       "      <td>28.0</td>\n",
       "      <td>123.00</td>\n",
       "      <td>4608.0</td>\n",
       "    </tr>\n",
       "    <tr>\n",
       "      <th>Lisbon</th>\n",
       "      <td>1536.0</td>\n",
       "      <td>127.830078</td>\n",
       "      <td>284.973697</td>\n",
       "      <td>2.0</td>\n",
       "      <td>8.0</td>\n",
       "      <td>31.0</td>\n",
       "      <td>111.00</td>\n",
       "      <td>3404.0</td>\n",
       "    </tr>\n",
       "    <tr>\n",
       "      <th>Ljubljana</th>\n",
       "      <td>207.0</td>\n",
       "      <td>88.256039</td>\n",
       "      <td>205.356515</td>\n",
       "      <td>2.0</td>\n",
       "      <td>8.0</td>\n",
       "      <td>20.0</td>\n",
       "      <td>60.50</td>\n",
       "      <td>2006.0</td>\n",
       "    </tr>\n",
       "    <tr>\n",
       "      <th>London</th>\n",
       "      <td>6768.0</td>\n",
       "      <td>137.968381</td>\n",
       "      <td>330.194687</td>\n",
       "      <td>2.0</td>\n",
       "      <td>9.0</td>\n",
       "      <td>38.0</td>\n",
       "      <td>132.00</td>\n",
       "      <td>9660.0</td>\n",
       "    </tr>\n",
       "    <tr>\n",
       "      <th>Luxembourg</th>\n",
       "      <td>250.0</td>\n",
       "      <td>83.268000</td>\n",
       "      <td>118.318593</td>\n",
       "      <td>2.0</td>\n",
       "      <td>11.0</td>\n",
       "      <td>35.0</td>\n",
       "      <td>98.00</td>\n",
       "      <td>652.0</td>\n",
       "    </tr>\n",
       "    <tr>\n",
       "      <th>Lyon</th>\n",
       "      <td>1079.0</td>\n",
       "      <td>87.073216</td>\n",
       "      <td>152.844238</td>\n",
       "      <td>2.0</td>\n",
       "      <td>10.0</td>\n",
       "      <td>31.0</td>\n",
       "      <td>93.50</td>\n",
       "      <td>1953.0</td>\n",
       "    </tr>\n",
       "    <tr>\n",
       "      <th>Madrid</th>\n",
       "      <td>3575.0</td>\n",
       "      <td>99.911888</td>\n",
       "      <td>252.875992</td>\n",
       "      <td>2.0</td>\n",
       "      <td>8.0</td>\n",
       "      <td>27.0</td>\n",
       "      <td>89.00</td>\n",
       "      <td>6013.0</td>\n",
       "    </tr>\n",
       "    <tr>\n",
       "      <th>Milan</th>\n",
       "      <td>2563.0</td>\n",
       "      <td>168.298869</td>\n",
       "      <td>322.838298</td>\n",
       "      <td>2.0</td>\n",
       "      <td>12.0</td>\n",
       "      <td>47.0</td>\n",
       "      <td>206.00</td>\n",
       "      <td>6360.0</td>\n",
       "    </tr>\n",
       "    <tr>\n",
       "      <th>Munich</th>\n",
       "      <td>1061.0</td>\n",
       "      <td>77.649387</td>\n",
       "      <td>204.742221</td>\n",
       "      <td>2.0</td>\n",
       "      <td>10.0</td>\n",
       "      <td>29.0</td>\n",
       "      <td>75.00</td>\n",
       "      <td>4694.0</td>\n",
       "    </tr>\n",
       "    <tr>\n",
       "      <th>Oporto</th>\n",
       "      <td>599.0</td>\n",
       "      <td>134.148581</td>\n",
       "      <td>298.579910</td>\n",
       "      <td>2.0</td>\n",
       "      <td>9.0</td>\n",
       "      <td>36.0</td>\n",
       "      <td>127.00</td>\n",
       "      <td>3206.0</td>\n",
       "    </tr>\n",
       "    <tr>\n",
       "      <th>Oslo</th>\n",
       "      <td>466.0</td>\n",
       "      <td>100.004292</td>\n",
       "      <td>184.443820</td>\n",
       "      <td>2.0</td>\n",
       "      <td>10.0</td>\n",
       "      <td>29.0</td>\n",
       "      <td>99.00</td>\n",
       "      <td>1391.0</td>\n",
       "    </tr>\n",
       "    <tr>\n",
       "      <th>Paris</th>\n",
       "      <td>5817.0</td>\n",
       "      <td>117.040915</td>\n",
       "      <td>231.714919</td>\n",
       "      <td>2.0</td>\n",
       "      <td>12.0</td>\n",
       "      <td>44.0</td>\n",
       "      <td>129.00</td>\n",
       "      <td>7622.0</td>\n",
       "    </tr>\n",
       "    <tr>\n",
       "      <th>Prague</th>\n",
       "      <td>1607.0</td>\n",
       "      <td>124.377722</td>\n",
       "      <td>341.818645</td>\n",
       "      <td>2.0</td>\n",
       "      <td>6.0</td>\n",
       "      <td>19.0</td>\n",
       "      <td>82.50</td>\n",
       "      <td>4521.0</td>\n",
       "    </tr>\n",
       "    <tr>\n",
       "      <th>Rome</th>\n",
       "      <td>2513.0</td>\n",
       "      <td>289.787107</td>\n",
       "      <td>490.114193</td>\n",
       "      <td>2.0</td>\n",
       "      <td>35.0</td>\n",
       "      <td>119.0</td>\n",
       "      <td>351.00</td>\n",
       "      <td>8927.0</td>\n",
       "    </tr>\n",
       "    <tr>\n",
       "      <th>Stockholm</th>\n",
       "      <td>952.0</td>\n",
       "      <td>75.197479</td>\n",
       "      <td>166.225794</td>\n",
       "      <td>2.0</td>\n",
       "      <td>7.0</td>\n",
       "      <td>20.5</td>\n",
       "      <td>65.00</td>\n",
       "      <td>1461.0</td>\n",
       "    </tr>\n",
       "    <tr>\n",
       "      <th>Vienna</th>\n",
       "      <td>1325.0</td>\n",
       "      <td>80.535094</td>\n",
       "      <td>232.756044</td>\n",
       "      <td>2.0</td>\n",
       "      <td>7.0</td>\n",
       "      <td>21.0</td>\n",
       "      <td>68.00</td>\n",
       "      <td>4937.0</td>\n",
       "    </tr>\n",
       "    <tr>\n",
       "      <th>Warsaw</th>\n",
       "      <td>829.0</td>\n",
       "      <td>67.112183</td>\n",
       "      <td>178.118422</td>\n",
       "      <td>2.0</td>\n",
       "      <td>6.0</td>\n",
       "      <td>17.0</td>\n",
       "      <td>49.00</td>\n",
       "      <td>2356.0</td>\n",
       "    </tr>\n",
       "    <tr>\n",
       "      <th>Zurich</th>\n",
       "      <td>645.0</td>\n",
       "      <td>72.510078</td>\n",
       "      <td>127.370841</td>\n",
       "      <td>2.0</td>\n",
       "      <td>10.0</td>\n",
       "      <td>30.0</td>\n",
       "      <td>82.00</td>\n",
       "      <td>1974.0</td>\n",
       "    </tr>\n",
       "  </tbody>\n",
       "</table>\n",
       "</div>"
      ],
      "text/plain": [
       "           Number of Reviews                                            \\\n",
       "                       count        mean         std  min   25%    50%   \n",
       "City                                                                     \n",
       "Amsterdam             1303.0  148.744436  330.452299  2.0  12.0   46.0   \n",
       "Athens                 721.0   93.987517  282.863372  2.0   7.0   22.0   \n",
       "Barcelona             3165.0  135.683096  308.794769  2.0   9.0   35.0   \n",
       "Berlin                2445.0   63.772188  165.759296  2.0   6.0   17.0   \n",
       "Bratislava             323.0   51.616099  171.215552  2.0   4.0   10.0   \n",
       "Brussels              1230.0   92.647154  256.491108  2.0   8.0   28.0   \n",
       "Budapest               935.0  158.680214  453.755563  2.0   8.0   24.0   \n",
       "Copenhagen             775.0   95.058065  189.314438  2.0   9.0   33.0   \n",
       "Dublin                 796.0  154.276382  314.491662  2.0  12.0   44.0   \n",
       "Edinburgh              724.0  237.711326  441.284317  2.0  14.0   69.5   \n",
       "Geneva                 548.0   62.173358  117.204742  2.0   9.0   30.5   \n",
       "Hamburg               1078.0   45.318182   89.372650  2.0   6.0   16.0   \n",
       "Helsinki               447.0   66.020134  139.741745  2.0   8.0   21.0   \n",
       "Krakow                 518.0  130.569498  312.625956  2.0   8.0   28.0   \n",
       "Lisbon                1536.0  127.830078  284.973697  2.0   8.0   31.0   \n",
       "Ljubljana              207.0   88.256039  205.356515  2.0   8.0   20.0   \n",
       "London                6768.0  137.968381  330.194687  2.0   9.0   38.0   \n",
       "Luxembourg             250.0   83.268000  118.318593  2.0  11.0   35.0   \n",
       "Lyon                  1079.0   87.073216  152.844238  2.0  10.0   31.0   \n",
       "Madrid                3575.0   99.911888  252.875992  2.0   8.0   27.0   \n",
       "Milan                 2563.0  168.298869  322.838298  2.0  12.0   47.0   \n",
       "Munich                1061.0   77.649387  204.742221  2.0  10.0   29.0   \n",
       "Oporto                 599.0  134.148581  298.579910  2.0   9.0   36.0   \n",
       "Oslo                   466.0  100.004292  184.443820  2.0  10.0   29.0   \n",
       "Paris                 5817.0  117.040915  231.714919  2.0  12.0   44.0   \n",
       "Prague                1607.0  124.377722  341.818645  2.0   6.0   19.0   \n",
       "Rome                  2513.0  289.787107  490.114193  2.0  35.0  119.0   \n",
       "Stockholm              952.0   75.197479  166.225794  2.0   7.0   20.5   \n",
       "Vienna                1325.0   80.535094  232.756044  2.0   7.0   21.0   \n",
       "Warsaw                 829.0   67.112183  178.118422  2.0   6.0   17.0   \n",
       "Zurich                 645.0   72.510078  127.370841  2.0  10.0   30.0   \n",
       "\n",
       "                            \n",
       "               75%     max  \n",
       "City                        \n",
       "Amsterdam   148.00  6777.0  \n",
       "Athens       67.00  4234.0  \n",
       "Barcelona   128.00  4996.0  \n",
       "Berlin       51.00  2572.0  \n",
       "Bratislava   30.00  2578.0  \n",
       "Brussels     90.75  6437.0  \n",
       "Budapest    113.00  7575.0  \n",
       "Copenhagen  105.50  3426.0  \n",
       "Dublin      157.00  3491.0  \n",
       "Edinburgh   269.75  4567.0  \n",
       "Geneva       74.00  1624.0  \n",
       "Hamburg      42.00   845.0  \n",
       "Helsinki     61.50  1488.0  \n",
       "Krakow      123.00  4608.0  \n",
       "Lisbon      111.00  3404.0  \n",
       "Ljubljana    60.50  2006.0  \n",
       "London      132.00  9660.0  \n",
       "Luxembourg   98.00   652.0  \n",
       "Lyon         93.50  1953.0  \n",
       "Madrid       89.00  6013.0  \n",
       "Milan       206.00  6360.0  \n",
       "Munich       75.00  4694.0  \n",
       "Oporto      127.00  3206.0  \n",
       "Oslo         99.00  1391.0  \n",
       "Paris       129.00  7622.0  \n",
       "Prague       82.50  4521.0  \n",
       "Rome        351.00  8927.0  \n",
       "Stockholm    65.00  1461.0  \n",
       "Vienna       68.00  4937.0  \n",
       "Warsaw       49.00  2356.0  \n",
       "Zurich       82.00  1974.0  "
      ]
     },
     "execution_count": 20,
     "metadata": {},
     "output_type": "execute_result"
    }
   ],
   "source": [
    "data[['City', 'Number of Reviews']].groupby('City').describe()"
   ]
  },
  {
   "cell_type": "markdown",
   "metadata": {},
   "source": [
    "## 'Reviews'"
   ]
  },
  {
   "cell_type": "code",
   "execution_count": 21,
   "metadata": {
    "execution": {
     "iopub.execute_input": "2021-07-09T14:07:39.534035Z",
     "iopub.status.busy": "2021-07-09T14:07:39.533692Z",
     "iopub.status.idle": "2021-07-09T14:07:39.576083Z",
     "shell.execute_reply": "2021-07-09T14:07:39.574989Z",
     "shell.execute_reply.started": "2021-07-09T14:07:39.533970Z"
    }
   },
   "outputs": [
    {
     "data": {
      "text/plain": [
       "31"
      ]
     },
     "execution_count": 21,
     "metadata": {},
     "output_type": "execute_result"
    }
   ],
   "source": [
    "len(data['Reviews'].value_counts().loc[lambda x : x > 1])"
   ]
  },
  {
   "cell_type": "code",
   "execution_count": 22,
   "metadata": {
    "execution": {
     "iopub.execute_input": "2021-07-09T14:07:39.577634Z",
     "iopub.status.busy": "2021-07-09T14:07:39.577295Z",
     "iopub.status.idle": "2021-07-09T14:07:39.621746Z",
     "shell.execute_reply": "2021-07-09T14:07:39.620652Z",
     "shell.execute_reply.started": "2021-07-09T14:07:39.577578Z"
    }
   },
   "outputs": [
    {
     "data": {
      "text/plain": [
       "[[], []]                                                                                                                              8112\n",
       "[['ok for beer, not for dinner'], ['12/20/2017']]                                                                                        2\n",
       "[['Delicious'], ['06/06/2017']]                                                                                                          2\n",
       "[['Fantastic food, Excellent service', 'Surprising good Indian food in Spain'], ['01/07/2018', '11/08/2017']]                            2\n",
       "[['Simply Excellent!', 'Modern!'], ['10/22/2017', '08/29/2017']]                                                                         2\n",
       "[['Great Asian Option', 'Wow'], ['10/16/2017', '09/07/2016']]                                                                            2\n",
       "[['Very good all around', 'Our first Madrid restaurant'], ['11/20/2017', '10/11/2017']]                                                  2\n",
       "[['Good Lebanese food', 'Decent place'], ['07/19/2017', '03/17/2017']]                                                                   2\n",
       "[['Good service and clean', 'Chinese fusion cuisine - ok to try if you...'], ['11/21/2017', '05/23/2017']]                               2\n",
       "[['Great Food! Wide Variety.', 'Dinner'], ['11/26/2017', '05/23/2017']]                                                                  2\n",
       "[['Happened to drop in', 'Right for a quick bite'], ['11/30/2016', '06/20/2015']]                                                        2\n",
       "[['Excellent cuisine, friendly and helpful se...', 'Not tasty'], ['12/25/2016', '06/05/2016']]                                           2\n",
       "[['Good restaurant for one meal.', 'Olive Garden Restaurant Warsaw. Food very...'], ['04/20/2015', '07/15/2013']]                        2\n",
       "[['Delicious soup', 'My weekly treat'], ['03/19/2017', '07/30/2017']]                                                                    2\n",
       "[['Improve your service', 'Great value chain restaurant'], ['12/14/2017', '07/30/2017']]                                                 2\n",
       "[['Absolutely authentic and delicious!', 'Wonderful discovery'], ['09/30/2017', '08/04/2016']]                                           2\n",
       "[['The real codido madrileño'], ['03/31/2017']]                                                                                          2\n",
       "[['Whenever in Madrid, we never miss this gem...', 'Underrated sushi restaurant with very good...'], ['04/11/2017', '12/02/2016']]       2\n",
       "[['Excellent food food', 'Fantastic sushi served tapas style'], ['09/07/2016', '02/21/2016']]                                            2\n",
       "[['Nice restaurant in Madrid', 'Highly reccomended'], ['11/10/2017', '05/21/2017']]                                                      2\n",
       "[['Healthy vegan doughnuts are posible', 'Best Vegan Donut in the world !!!'], ['11/17/2017', '11/16/2017']]                             2\n",
       "[['Very average food. Over average prices.', 'great food with great service!'], ['11/17/2017', '08/17/2017']]                            2\n",
       "[['Thursday snack', 'Good value for money & good food!'], ['03/13/2017', '06/20/2016']]                                                  2\n",
       "[['Visited the rooftop bar', 'SIXTH FLOOR ROOFTOP BUT YOU CAN ONLY SEE O...'], ['06/27/2017', '10/31/2017']]                             2\n",
       "[['Great coffee and pastries, sandwiches, ver...', 'Great breakfast!'], ['02/21/2017', '09/19/2016']]                                    2\n",
       "[['Good Paella', 'Good enough. Nothing more'], ['09/20/2017', '05/29/2017']]                                                             2\n",
       "[['Enjoyable restaurant with indoor and outdo...', 'Delicious food'], ['11/04/2017', '10/31/2017']]                                      2\n",
       "[['Very cozy!', 'Service rate: 1'], ['01/17/2016', '11/18/2015']]                                                                        2\n",
       "[['Sat night', 'Can\\'t even explain.. \"A\" place.. A \"100...'], ['10/22/2017', '05/11/2017']]                                             2\n",
       "[['Great food, service and atmosphere', 'Decor and food'], ['11/06/2017', '10/22/2017']]                                                 2\n",
       "[['Excellent'], ['09/03/2015']]                                                                                                          2\n",
       "Name: Reviews, dtype: int64"
      ]
     },
     "execution_count": 22,
     "metadata": {},
     "output_type": "execute_result"
    }
   ],
   "source": [
    "data['Reviews'].value_counts().loc[lambda x : x > 1]"
   ]
  },
  {
   "cell_type": "markdown",
   "metadata": {},
   "source": [
    "В датасете встречаются дублированные отзывы. Количество повторов не более двух. Также 8112 записей с пустыми отзывами"
   ]
  },
  {
   "cell_type": "markdown",
   "metadata": {},
   "source": [
    "## 1. Обработка NAN \n",
    "У наличия пропусков могут быть разные причины, но пропуски нужно либо заполнить, либо исключить из набора полностью. Но с пропусками нужно быть внимательным, **даже отсутствие информации может быть важным признаком!**   \n",
    "По этому перед обработкой NAN лучше вынести информацию о наличии пропуска как отдельный признак "
   ]
  },
  {
   "cell_type": "code",
   "execution_count": 23,
   "metadata": {
    "execution": {
     "iopub.execute_input": "2021-07-09T14:07:39.623620Z",
     "iopub.status.busy": "2021-07-09T14:07:39.623302Z",
     "iopub.status.idle": "2021-07-09T14:07:39.636340Z",
     "shell.execute_reply": "2021-07-09T14:07:39.635238Z",
     "shell.execute_reply.started": "2021-07-09T14:07:39.623569Z"
    }
   },
   "outputs": [],
   "source": [
    "data['Number_of_Reviews_isNAN'] = pd.isna(data['Number of Reviews']).astype('uint8')\n",
    "data['Cuisine_Style_isNAN'] = pd.isna(data['Cuisine Style']).astype('uint8')\n",
    "data['Price_Range_isNAN'] = pd.isna(data['Price Range']).astype('uint8')"
   ]
  },
  {
   "cell_type": "code",
   "execution_count": 24,
   "metadata": {
    "execution": {
     "iopub.execute_input": "2021-07-09T14:07:39.638276Z",
     "iopub.status.busy": "2021-07-09T14:07:39.637914Z",
     "iopub.status.idle": "2021-07-09T14:07:39.650280Z",
     "shell.execute_reply": "2021-07-09T14:07:39.649372Z",
     "shell.execute_reply.started": "2021-07-09T14:07:39.638209Z"
    }
   },
   "outputs": [],
   "source": [
    "# Создадим класс для обработки пропусков объектами которого можно формировать \n",
    "# различные способы заполнения пропусков\n",
    "\n",
    "class FillNaByFeature():\n",
    "    def __init__(self, feature, value, data):\n",
    "        self.df = data[[feature, value]].groupby(feature).describe()\n",
    "        self.feature = feature\n",
    "        self.value = value\n",
    "    \n",
    "    def fill_na(self, row, statistic=0):\n",
    "        #if np.isnan(row[self.value]):\n",
    "        if pd.isnull(row[self.value]):\n",
    "            if statistic == 'mean':\n",
    "                return self.df[self.value, 'mean'][row[self.feature]]\n",
    "            if statistic == 'median':\n",
    "                return self.df[self.value, '50%'][row[self.feature]]\n",
    "            if statistic == 'top':\n",
    "                return self.df[self.value, 'top'][row[self.feature]]\n",
    "            if statistic == 0:\n",
    "                return 0\n",
    "        else:\n",
    "            return row[self.value]"
   ]
  },
  {
   "cell_type": "code",
   "execution_count": 25,
   "metadata": {
    "execution": {
     "iopub.execute_input": "2021-07-09T14:07:39.651724Z",
     "iopub.status.busy": "2021-07-09T14:07:39.651499Z",
     "iopub.status.idle": "2021-07-09T14:07:39.822302Z",
     "shell.execute_reply": "2021-07-09T14:07:39.821281Z",
     "shell.execute_reply.started": "2021-07-09T14:07:39.651684Z"
    }
   },
   "outputs": [],
   "source": [
    "# Создаем объект для заполнения пропусков признака 'Number of Reviews' по городу\n",
    "filling_number_of_review = FillNaByFeature('City', 'Number of Reviews', data )"
   ]
  },
  {
   "cell_type": "code",
   "execution_count": 26,
   "metadata": {
    "execution": {
     "iopub.execute_input": "2021-07-09T14:07:39.824919Z",
     "iopub.status.busy": "2021-07-09T14:07:39.824526Z",
     "iopub.status.idle": "2021-07-09T14:07:40.001815Z",
     "shell.execute_reply": "2021-07-09T14:07:40.000595Z",
     "shell.execute_reply.started": "2021-07-09T14:07:39.824845Z"
    }
   },
   "outputs": [],
   "source": [
    "# Создадим объект для заполнения пропусков признака 'Price Range' по городу\n",
    "filling_price_range = FillNaByFeature('City', 'Price Range', data)"
   ]
  },
  {
   "cell_type": "code",
   "execution_count": 27,
   "metadata": {
    "execution": {
     "iopub.execute_input": "2021-07-09T14:07:40.003976Z",
     "iopub.status.busy": "2021-07-09T14:07:40.003608Z",
     "iopub.status.idle": "2021-07-09T14:07:41.410266Z",
     "shell.execute_reply": "2021-07-09T14:07:41.409137Z",
     "shell.execute_reply.started": "2021-07-09T14:07:40.003916Z"
    }
   },
   "outputs": [],
   "source": [
    "# Заполним пропуски 'Number of Reviews' медианой по городу\n",
    "data['Number of Reviews'] = data.apply(filling_number_of_review.fill_na, args=('median',), axis=1)"
   ]
  },
  {
   "cell_type": "code",
   "execution_count": 28,
   "metadata": {
    "execution": {
     "iopub.execute_input": "2021-07-09T14:07:41.411815Z",
     "iopub.status.busy": "2021-07-09T14:07:41.411571Z",
     "iopub.status.idle": "2021-07-09T14:07:43.468972Z",
     "shell.execute_reply": "2021-07-09T14:07:43.467962Z",
     "shell.execute_reply.started": "2021-07-09T14:07:41.411773Z"
    }
   },
   "outputs": [],
   "source": [
    "# Заполним пропуски 'Price Range' часто встречающимся значением по городу\n",
    "data['Price Range'] = data.apply(filling_price_range.fill_na, args=('top',), axis=1)"
   ]
  },
  {
   "cell_type": "code",
   "execution_count": 29,
   "metadata": {
    "execution": {
     "iopub.execute_input": "2021-07-09T14:07:43.470611Z",
     "iopub.status.busy": "2021-07-09T14:07:43.470360Z",
     "iopub.status.idle": "2021-07-09T14:07:43.677189Z",
     "shell.execute_reply": "2021-07-09T14:07:43.676217Z",
     "shell.execute_reply.started": "2021-07-09T14:07:43.470567Z"
    }
   },
   "outputs": [],
   "source": [
    "# Создадим объект для заполнения пропусков признака 'Cuisine Style' по городу\n",
    "filling_cuisine_style = FillNaByFeature('City', 'Cuisine Style', data)"
   ]
  },
  {
   "cell_type": "code",
   "execution_count": 30,
   "metadata": {
    "execution": {
     "iopub.execute_input": "2021-07-09T14:07:43.679141Z",
     "iopub.status.busy": "2021-07-09T14:07:43.678771Z",
     "iopub.status.idle": "2021-07-09T14:07:45.453224Z",
     "shell.execute_reply": "2021-07-09T14:07:45.452371Z",
     "shell.execute_reply.started": "2021-07-09T14:07:43.679068Z"
    }
   },
   "outputs": [],
   "source": [
    "# Заполним пропуски 'Cuisine Style' часто встречающимся значением по городу\n",
    "data['Cuisine Style'] = data.apply(filling_cuisine_style.fill_na, args=('top',), axis=1)"
   ]
  },
  {
   "cell_type": "code",
   "execution_count": 31,
   "metadata": {
    "execution": {
     "iopub.execute_input": "2021-07-09T14:07:45.455348Z",
     "iopub.status.busy": "2021-07-09T14:07:45.454987Z",
     "iopub.status.idle": "2021-07-09T14:07:45.466169Z",
     "shell.execute_reply": "2021-07-09T14:07:45.465273Z",
     "shell.execute_reply.started": "2021-07-09T14:07:45.455267Z"
    }
   },
   "outputs": [],
   "source": [
    "# Заполнил вначале пропуски в поле 'Reviews' пустым значением как и у других записей с пустыми обзорами. Добавим отдельное поле 'Reviews_isNaN' для пустых обзоров.\n",
    "# Затем распарсим значения на отдельные отзывы и их даты.\n",
    "data['Reviews'] = data['Reviews'].fillna('[[], []]')"
   ]
  },
  {
   "cell_type": "code",
   "execution_count": 32,
   "metadata": {
    "execution": {
     "iopub.execute_input": "2021-07-09T14:07:45.471431Z",
     "iopub.status.busy": "2021-07-09T14:07:45.470994Z",
     "iopub.status.idle": "2021-07-09T14:07:45.498230Z",
     "shell.execute_reply": "2021-07-09T14:07:45.496703Z",
     "shell.execute_reply.started": "2021-07-09T14:07:45.471245Z"
    }
   },
   "outputs": [],
   "source": [
    "data['Reviews_isNaN'] = data['Reviews'].apply(lambda x: 1 if x == '[[], []]' else 0)"
   ]
  },
  {
   "cell_type": "code",
   "execution_count": 33,
   "metadata": {
    "execution": {
     "iopub.execute_input": "2021-07-09T14:07:45.499911Z",
     "iopub.status.busy": "2021-07-09T14:07:45.499660Z",
     "iopub.status.idle": "2021-07-09T14:07:45.526790Z",
     "shell.execute_reply": "2021-07-09T14:07:45.526087Z",
     "shell.execute_reply.started": "2021-07-09T14:07:45.499868Z"
    }
   },
   "outputs": [
    {
     "name": "stdout",
     "output_type": "stream",
     "text": [
      "<class 'pandas.core.frame.DataFrame'>\n",
      "RangeIndex: 50000 entries, 0 to 49999\n",
      "Data columns (total 15 columns):\n",
      "Restaurant_id              50000 non-null object\n",
      "City                       50000 non-null object\n",
      "Cuisine Style              50000 non-null object\n",
      "Ranking                    50000 non-null float64\n",
      "Price Range                50000 non-null object\n",
      "Number of Reviews          50000 non-null float64\n",
      "Reviews                    50000 non-null object\n",
      "URL_TA                     50000 non-null object\n",
      "ID_TA                      50000 non-null object\n",
      "sample                     50000 non-null int64\n",
      "Rating                     50000 non-null float64\n",
      "Number_of_Reviews_isNAN    50000 non-null uint8\n",
      "Cuisine_Style_isNAN        50000 non-null uint8\n",
      "Price_Range_isNAN          50000 non-null uint8\n",
      "Reviews_isNaN              50000 non-null int64\n",
      "dtypes: float64(3), int64(2), object(7), uint8(3)\n",
      "memory usage: 4.7+ MB\n"
     ]
    }
   ],
   "source": [
    "data.info()"
   ]
  },
  {
   "cell_type": "markdown",
   "metadata": {},
   "source": [
    "### 2. Обработка признаков\n",
    "Для начала посмотрим какие признаки у нас могут быть категориальными."
   ]
  },
  {
   "cell_type": "code",
   "execution_count": 34,
   "metadata": {
    "execution": {
     "iopub.execute_input": "2021-07-09T14:07:45.528444Z",
     "iopub.status.busy": "2021-07-09T14:07:45.528066Z",
     "iopub.status.idle": "2021-07-09T14:07:45.641233Z",
     "shell.execute_reply": "2021-07-09T14:07:45.640543Z",
     "shell.execute_reply.started": "2021-07-09T14:07:45.528403Z"
    }
   },
   "outputs": [
    {
     "data": {
      "text/plain": [
       "Restaurant_id              13094\n",
       "City                          31\n",
       "Cuisine Style              10731\n",
       "Ranking                    12975\n",
       "Price Range                    3\n",
       "Number of Reviews           1576\n",
       "Reviews                    41857\n",
       "URL_TA                     49963\n",
       "ID_TA                      49963\n",
       "sample                         2\n",
       "Rating                        10\n",
       "Number_of_Reviews_isNAN        2\n",
       "Cuisine_Style_isNAN            2\n",
       "Price_Range_isNAN              2\n",
       "Reviews_isNaN                  2\n",
       "dtype: int64"
      ]
     },
     "execution_count": 34,
     "metadata": {},
     "output_type": "execute_result"
    }
   ],
   "source": [
    "data.nunique(dropna=False)"
   ]
  },
  {
   "cell_type": "code",
   "execution_count": 35,
   "metadata": {
    "execution": {
     "iopub.execute_input": "2021-07-09T14:07:45.642490Z",
     "iopub.status.busy": "2021-07-09T14:07:45.642151Z",
     "iopub.status.idle": "2021-07-09T14:07:45.681894Z",
     "shell.execute_reply": "2021-07-09T14:07:45.681130Z",
     "shell.execute_reply.started": "2021-07-09T14:07:45.642453Z"
    }
   },
   "outputs": [],
   "source": [
    "# Обработка 'Price Range'\n",
    "\n",
    "data['Price Range'] = data['Price Range'].apply(lambda x: 3 if x == '$$$$' else x)\n",
    "data['Price Range'] = data['Price Range'].apply(lambda x: 2 if x == '$$ - $$$' else x)\n",
    "data['Price Range'] = data['Price Range'].apply(lambda x: 1 if x == '$' else x)"
   ]
  },
  {
   "cell_type": "code",
   "execution_count": 36,
   "metadata": {
    "execution": {
     "iopub.execute_input": "2021-07-09T14:07:45.683298Z",
     "iopub.status.busy": "2021-07-09T14:07:45.682926Z",
     "iopub.status.idle": "2021-07-09T14:07:51.022970Z",
     "shell.execute_reply": "2021-07-09T14:07:51.021932Z",
     "shell.execute_reply.started": "2021-07-09T14:07:45.683258Z"
    }
   },
   "outputs": [],
   "source": [
    "# Обработка признака 'Cuisine Style'\n",
    "\n",
    "data['Cuisine Style'] = data['Cuisine Style'].apply(lambda x: x.replace('\"', '').replace('[', '').replace(']', '').replace(\"'\", \"\").replace(', ', ',').split(','))\n",
    "df_cuisine_style = data['Cuisine Style'].str.join('@').str.get_dummies('@')\n",
    "data = pd.concat([data, df_cuisine_style], axis=1)"
   ]
  },
  {
   "cell_type": "code",
   "execution_count": 37,
   "metadata": {
    "execution": {
     "iopub.execute_input": "2021-07-09T14:07:51.024440Z",
     "iopub.status.busy": "2021-07-09T14:07:51.024176Z",
     "iopub.status.idle": "2021-07-09T14:07:51.050345Z",
     "shell.execute_reply": "2021-07-09T14:07:51.049396Z",
     "shell.execute_reply.started": "2021-07-09T14:07:51.024399Z"
    }
   },
   "outputs": [],
   "source": [
    "# Добавим дополнительный признак - количество стилей кухонь в ресторане\n",
    "\n",
    "data['cuisine_style_count'] = data['Cuisine Style'].apply(lambda x: len(x))"
   ]
  },
  {
   "cell_type": "code",
   "execution_count": 38,
   "metadata": {
    "execution": {
     "iopub.execute_input": "2021-07-09T14:07:51.051792Z",
     "iopub.status.busy": "2021-07-09T14:07:51.051566Z",
     "iopub.status.idle": "2021-07-09T14:07:51.062418Z",
     "shell.execute_reply": "2021-07-09T14:07:51.061445Z",
     "shell.execute_reply.started": "2021-07-09T14:07:51.051757Z"
    }
   },
   "outputs": [],
   "source": [
    "# Функция для парсинга поля 'Reviews' \n",
    "# Входные данные: строка, индекс (0 - 3)\n",
    "# Выходные данные: Строки обзора, либо даты\n",
    "\n",
    "def review_parsing(input_str, index=\"\"):\n",
    "    input_str = input_str.replace(\"[\", \"\").replace(\"]\", \"\")\n",
    "    begin_item = True\n",
    "    limiter = \"\"\n",
    "    out_list = []\n",
    "    out_str =\"\"\n",
    "    limiter_count = 0\n",
    "    for symbol in enumerate(input_str):\n",
    "        if begin_item and symbol[1] != ' ' and symbol[1] != ',' and limiter_count == 0:\n",
    "            limiter = symbol[1]\n",
    "            begin_item = False\n",
    "            limiter_count += 1\n",
    "        elif symbol[1] == limiter:\n",
    "            if symbol[0] < len(input_str) - 1 and symbol[0] > 0:\n",
    "                if input_str[symbol[0] + 1] == ',' and (input_str[symbol[0] - 1] != '\\\\' or \\\n",
    "                                                        input_str[symbol[0] - 1] == '\\\\' and input_str[symbol[0] - 2] == '\\\\'):\n",
    "                    limiter_count += 1\n",
    "            else:\n",
    "                limiter_count += 1\n",
    "            if limiter_count == 2:\n",
    "                out_list.append(out_str)\n",
    "                out_str = \"\"\n",
    "                begin_item = True\n",
    "                limiter_count = 0\n",
    "        elif limiter_count == 1:\n",
    "            out_str += symbol[1]\n",
    "    if len(out_list) == 0:\n",
    "        out_list =  [np.NaN, np.NaN, np.NaN, np.NaN]\n",
    "    elif len(out_list) == 2:\n",
    "        out_list.insert(1, np.NaN)\n",
    "        out_list.append(np.NaN)\n",
    "    if index == '':\n",
    "        return out_list\n",
    "    else:\n",
    "        return out_list[index]"
   ]
  },
  {
   "cell_type": "code",
   "execution_count": 39,
   "metadata": {
    "execution": {
     "iopub.execute_input": "2021-07-09T14:07:51.064565Z",
     "iopub.status.busy": "2021-07-09T14:07:51.063848Z",
     "iopub.status.idle": "2021-07-09T14:07:51.723326Z",
     "shell.execute_reply": "2021-07-09T14:07:51.722503Z",
     "shell.execute_reply.started": "2021-07-09T14:07:51.064150Z"
    }
   },
   "outputs": [],
   "source": [
    "# Из данных 'Reviews' извлечем последний отзыв\n",
    "data['last_review'] = data['Reviews'].apply(review_parsing, index=0)"
   ]
  },
  {
   "cell_type": "code",
   "execution_count": 40,
   "metadata": {
    "execution": {
     "iopub.execute_input": "2021-07-09T14:07:51.725470Z",
     "iopub.status.busy": "2021-07-09T14:07:51.725092Z",
     "iopub.status.idle": "2021-07-09T14:07:52.397761Z",
     "shell.execute_reply": "2021-07-09T14:07:52.396693Z",
     "shell.execute_reply.started": "2021-07-09T14:07:51.725400Z"
    }
   },
   "outputs": [],
   "source": [
    "# Из данных 'Reviews' извлечем дату последнего отзыва\n",
    "data['last_review_date'] =  pd.to_datetime(data['Reviews'].apply(review_parsing, index=2))"
   ]
  },
  {
   "cell_type": "code",
   "execution_count": 41,
   "metadata": {
    "execution": {
     "iopub.execute_input": "2021-07-09T14:07:52.399880Z",
     "iopub.status.busy": "2021-07-09T14:07:52.399471Z",
     "iopub.status.idle": "2021-07-09T14:07:53.046512Z",
     "shell.execute_reply": "2021-07-09T14:07:53.045648Z",
     "shell.execute_reply.started": "2021-07-09T14:07:52.399802Z"
    }
   },
   "outputs": [],
   "source": [
    "# Из данных 'Reviews' извлечем предпоследний отзыв\n",
    "data['prev_review'] = data['Reviews'].apply(review_parsing, index=1)"
   ]
  },
  {
   "cell_type": "code",
   "execution_count": 42,
   "metadata": {
    "execution": {
     "iopub.execute_input": "2021-07-09T14:07:53.048335Z",
     "iopub.status.busy": "2021-07-09T14:07:53.047991Z",
     "iopub.status.idle": "2021-07-09T14:07:53.713485Z",
     "shell.execute_reply": "2021-07-09T14:07:53.712687Z",
     "shell.execute_reply.started": "2021-07-09T14:07:53.048264Z"
    }
   },
   "outputs": [],
   "source": [
    "# Из данных 'Reviews' извлечем дату предпоследнего отзыва\n",
    "data['prev_review_date'] = pd.to_datetime(data['Reviews'].apply(review_parsing, index=3))"
   ]
  },
  {
   "cell_type": "code",
   "execution_count": 43,
   "metadata": {
    "execution": {
     "iopub.execute_input": "2021-07-09T14:07:53.714831Z",
     "iopub.status.busy": "2021-07-09T14:07:53.714481Z",
     "iopub.status.idle": "2021-07-09T14:07:54.077254Z",
     "shell.execute_reply": "2021-07-09T14:07:54.076472Z",
     "shell.execute_reply.started": "2021-07-09T14:07:53.714793Z"
    }
   },
   "outputs": [],
   "source": [
    "# Создадим новый признак - количество дней прошедших между последним и предпоследним отзывом\n",
    "data['review_days_elasped'] = (data.last_review_date - data.prev_review_date).apply(lambda x: abs(x.days))"
   ]
  },
  {
   "cell_type": "code",
   "execution_count": 44,
   "metadata": {
    "execution": {
     "iopub.execute_input": "2021-07-09T14:07:54.078483Z",
     "iopub.status.busy": "2021-07-09T14:07:54.078217Z",
     "iopub.status.idle": "2021-07-09T14:07:54.158400Z",
     "shell.execute_reply": "2021-07-09T14:07:54.157444Z",
     "shell.execute_reply.started": "2021-07-09T14:07:54.078438Z"
    }
   },
   "outputs": [
    {
     "data": {
      "text/html": [
       "<div>\n",
       "<style scoped>\n",
       "    .dataframe tbody tr th:only-of-type {\n",
       "        vertical-align: middle;\n",
       "    }\n",
       "\n",
       "    .dataframe tbody tr th {\n",
       "        vertical-align: top;\n",
       "    }\n",
       "\n",
       "    .dataframe thead th {\n",
       "        text-align: right;\n",
       "    }\n",
       "</style>\n",
       "<table border=\"1\" class=\"dataframe\">\n",
       "  <thead>\n",
       "    <tr style=\"text-align: right;\">\n",
       "      <th></th>\n",
       "      <th>Reviews</th>\n",
       "      <th>last_review</th>\n",
       "      <th>last_review_date</th>\n",
       "      <th>prev_review</th>\n",
       "      <th>prev_review_date</th>\n",
       "      <th>review_days_elasped</th>\n",
       "    </tr>\n",
       "  </thead>\n",
       "  <tbody>\n",
       "    <tr>\n",
       "      <th>0</th>\n",
       "      <td>[[], []]</td>\n",
       "      <td>NaN</td>\n",
       "      <td>NaT</td>\n",
       "      <td>NaN</td>\n",
       "      <td>NaT</td>\n",
       "      <td>NaN</td>\n",
       "    </tr>\n",
       "    <tr>\n",
       "      <th>1</th>\n",
       "      <td>[['Very good reviews!', 'Fine dining in Hakani...</td>\n",
       "      <td>Very good reviews!</td>\n",
       "      <td>2017-12-05</td>\n",
       "      <td>Fine dining in Hakaniemi</td>\n",
       "      <td>2017-10-29</td>\n",
       "      <td>37.0</td>\n",
       "    </tr>\n",
       "    <tr>\n",
       "      <th>2</th>\n",
       "      <td>[['Better than the Links', 'Ivy Black'], ['12/...</td>\n",
       "      <td>Better than the Links</td>\n",
       "      <td>2017-12-28</td>\n",
       "      <td>Ivy Black</td>\n",
       "      <td>2017-12-06</td>\n",
       "      <td>22.0</td>\n",
       "    </tr>\n",
       "    <tr>\n",
       "      <th>3</th>\n",
       "      <td>[['Most exquisite', 'Delicious and authentic']...</td>\n",
       "      <td>Most exquisite</td>\n",
       "      <td>2017-12-06</td>\n",
       "      <td>Delicious and authentic</td>\n",
       "      <td>2017-11-22</td>\n",
       "      <td>14.0</td>\n",
       "    </tr>\n",
       "    <tr>\n",
       "      <th>4</th>\n",
       "      <td>[['Always the best in bratislava', 'Very good ...</td>\n",
       "      <td>Always the best in bratislava</td>\n",
       "      <td>2018-02-08</td>\n",
       "      <td>Very good but pricey</td>\n",
       "      <td>2018-01-24</td>\n",
       "      <td>15.0</td>\n",
       "    </tr>\n",
       "    <tr>\n",
       "      <th>...</th>\n",
       "      <td>...</td>\n",
       "      <td>...</td>\n",
       "      <td>...</td>\n",
       "      <td>...</td>\n",
       "      <td>...</td>\n",
       "      <td>...</td>\n",
       "    </tr>\n",
       "    <tr>\n",
       "      <th>49995</th>\n",
       "      <td>[['The real Italian experience!', 'Wonderful f...</td>\n",
       "      <td>The real Italian experience!</td>\n",
       "      <td>2017-12-16</td>\n",
       "      <td>Wonderful food, wonderful experience</td>\n",
       "      <td>2017-11-12</td>\n",
       "      <td>34.0</td>\n",
       "    </tr>\n",
       "    <tr>\n",
       "      <th>49996</th>\n",
       "      <td>[['Parisian atmosphere', 'Bit pricey but inter...</td>\n",
       "      <td>Parisian atmosphere</td>\n",
       "      <td>2017-12-21</td>\n",
       "      <td>Bit pricey but interesting decor and good...</td>\n",
       "      <td>2017-12-12</td>\n",
       "      <td>9.0</td>\n",
       "    </tr>\n",
       "    <tr>\n",
       "      <th>49997</th>\n",
       "      <td>[['Good by swedish standards', 'A hidden jewel...</td>\n",
       "      <td>Good by swedish standards</td>\n",
       "      <td>2016-11-03</td>\n",
       "      <td>A hidden jewel in the middle of Västertorp...</td>\n",
       "      <td>2008-04-12</td>\n",
       "      <td>3127.0</td>\n",
       "    </tr>\n",
       "    <tr>\n",
       "      <th>49998</th>\n",
       "      <td>[['Underground restaurant', 'Oldest Restaurant...</td>\n",
       "      <td>Underground restaurant</td>\n",
       "      <td>2017-07-11</td>\n",
       "      <td>Oldest Restaurant in Warsaw</td>\n",
       "      <td>2017-06-18</td>\n",
       "      <td>23.0</td>\n",
       "    </tr>\n",
       "    <tr>\n",
       "      <th>49999</th>\n",
       "      <td>[['Average', 'Nice an informal'], ['01/31/2016...</td>\n",
       "      <td>Average</td>\n",
       "      <td>2016-01-31</td>\n",
       "      <td>Nice an informal</td>\n",
       "      <td>2012-07-04</td>\n",
       "      <td>1306.0</td>\n",
       "    </tr>\n",
       "  </tbody>\n",
       "</table>\n",
       "<p>50000 rows × 6 columns</p>\n",
       "</div>"
      ],
      "text/plain": [
       "                                                 Reviews  \\\n",
       "0                                               [[], []]   \n",
       "1      [['Very good reviews!', 'Fine dining in Hakani...   \n",
       "2      [['Better than the Links', 'Ivy Black'], ['12/...   \n",
       "3      [['Most exquisite', 'Delicious and authentic']...   \n",
       "4      [['Always the best in bratislava', 'Very good ...   \n",
       "...                                                  ...   \n",
       "49995  [['The real Italian experience!', 'Wonderful f...   \n",
       "49996  [['Parisian atmosphere', 'Bit pricey but inter...   \n",
       "49997  [['Good by swedish standards', 'A hidden jewel...   \n",
       "49998  [['Underground restaurant', 'Oldest Restaurant...   \n",
       "49999  [['Average', 'Nice an informal'], ['01/31/2016...   \n",
       "\n",
       "                         last_review last_review_date  \\\n",
       "0                                NaN              NaT   \n",
       "1                 Very good reviews!       2017-12-05   \n",
       "2              Better than the Links       2017-12-28   \n",
       "3                     Most exquisite       2017-12-06   \n",
       "4      Always the best in bratislava       2018-02-08   \n",
       "...                              ...              ...   \n",
       "49995   The real Italian experience!       2017-12-16   \n",
       "49996            Parisian atmosphere       2017-12-21   \n",
       "49997      Good by swedish standards       2016-11-03   \n",
       "49998         Underground restaurant       2017-07-11   \n",
       "49999                        Average       2016-01-31   \n",
       "\n",
       "                                         prev_review prev_review_date  \\\n",
       "0                                                NaN              NaT   \n",
       "1                           Fine dining in Hakaniemi       2017-10-29   \n",
       "2                                          Ivy Black       2017-12-06   \n",
       "3                            Delicious and authentic       2017-11-22   \n",
       "4                               Very good but pricey       2018-01-24   \n",
       "...                                              ...              ...   \n",
       "49995           Wonderful food, wonderful experience       2017-11-12   \n",
       "49996   Bit pricey but interesting decor and good...       2017-12-12   \n",
       "49997  A hidden jewel in the middle of Västertorp...       2008-04-12   \n",
       "49998                    Oldest Restaurant in Warsaw       2017-06-18   \n",
       "49999                               Nice an informal       2012-07-04   \n",
       "\n",
       "       review_days_elasped  \n",
       "0                      NaN  \n",
       "1                     37.0  \n",
       "2                     22.0  \n",
       "3                     14.0  \n",
       "4                     15.0  \n",
       "...                    ...  \n",
       "49995                 34.0  \n",
       "49996                  9.0  \n",
       "49997               3127.0  \n",
       "49998                 23.0  \n",
       "49999               1306.0  \n",
       "\n",
       "[50000 rows x 6 columns]"
      ]
     },
     "execution_count": 44,
     "metadata": {},
     "output_type": "execute_result"
    }
   ],
   "source": [
    "data[['Reviews', 'last_review', 'last_review_date', 'prev_review', 'prev_review_date', 'review_days_elasped' ]]"
   ]
  },
  {
   "cell_type": "code",
   "execution_count": 45,
   "metadata": {
    "execution": {
     "iopub.execute_input": "2021-07-09T14:07:54.159892Z",
     "iopub.status.busy": "2021-07-09T14:07:54.159645Z",
     "iopub.status.idle": "2021-07-09T14:07:54.250723Z",
     "shell.execute_reply": "2021-07-09T14:07:54.249924Z",
     "shell.execute_reply.started": "2021-07-09T14:07:54.159841Z"
    }
   },
   "outputs": [],
   "source": [
    "# Создадим новые признаки, кол-во символов в отзыве, пропущенные отзывы заполним нулями\n",
    "data['last_review_len'] = data['last_review'].apply(lambda x: len(x) if pd.notnull(x) else 0)\n",
    "data['prev_review_len'] = data['prev_review'].apply(lambda x: len(x) if pd.notnull(x) else 0)"
   ]
  },
  {
   "cell_type": "code",
   "execution_count": 46,
   "metadata": {
    "execution": {
     "iopub.execute_input": "2021-07-09T14:07:54.252011Z",
     "iopub.status.busy": "2021-07-09T14:07:54.251796Z",
     "iopub.status.idle": "2021-07-09T14:07:54.258166Z",
     "shell.execute_reply": "2021-07-09T14:07:54.257212Z",
     "shell.execute_reply.started": "2021-07-09T14:07:54.251970Z"
    }
   },
   "outputs": [],
   "source": [
    "data['review_days_elasped'] = data['review_days_elasped'].fillna(9999)"
   ]
  },
  {
   "cell_type": "code",
   "execution_count": 47,
   "metadata": {
    "execution": {
     "iopub.execute_input": "2021-07-09T14:07:54.260028Z",
     "iopub.status.busy": "2021-07-09T14:07:54.259713Z",
     "iopub.status.idle": "2021-07-09T14:07:54.363479Z",
     "shell.execute_reply": "2021-07-09T14:07:54.362378Z",
     "shell.execute_reply.started": "2021-07-09T14:07:54.259977Z"
    }
   },
   "outputs": [
    {
     "name": "stdout",
     "output_type": "stream",
     "text": [
      "<class 'pandas.core.frame.DataFrame'>\n",
      "RangeIndex: 50000 entries, 0 to 49999\n",
      "Data columns (total 148 columns):\n",
      "Restaurant_id              50000 non-null object\n",
      "City                       50000 non-null object\n",
      "Cuisine Style              50000 non-null object\n",
      "Ranking                    50000 non-null float64\n",
      "Price Range                50000 non-null int64\n",
      "Number of Reviews          50000 non-null float64\n",
      "Reviews                    50000 non-null object\n",
      "URL_TA                     50000 non-null object\n",
      "ID_TA                      50000 non-null object\n",
      "sample                     50000 non-null int64\n",
      "Rating                     50000 non-null float64\n",
      "Number_of_Reviews_isNAN    50000 non-null uint8\n",
      "Cuisine_Style_isNAN        50000 non-null uint8\n",
      "Price_Range_isNAN          50000 non-null uint8\n",
      "Reviews_isNaN              50000 non-null int64\n",
      "Afghani                    50000 non-null int64\n",
      "African                    50000 non-null int64\n",
      "Albanian                   50000 non-null int64\n",
      "American                   50000 non-null int64\n",
      "Arabic                     50000 non-null int64\n",
      "Argentinean                50000 non-null int64\n",
      "Armenian                   50000 non-null int64\n",
      "Asian                      50000 non-null int64\n",
      "Australian                 50000 non-null int64\n",
      "Austrian                   50000 non-null int64\n",
      "Azerbaijani                50000 non-null int64\n",
      "Balti                      50000 non-null int64\n",
      "Bangladeshi                50000 non-null int64\n",
      "Bar                        50000 non-null int64\n",
      "Barbecue                   50000 non-null int64\n",
      "Belgian                    50000 non-null int64\n",
      "Brazilian                  50000 non-null int64\n",
      "Brew Pub                   50000 non-null int64\n",
      "British                    50000 non-null int64\n",
      "Burmese                    50000 non-null int64\n",
      "Cafe                       50000 non-null int64\n",
      "Cajun & Creole             50000 non-null int64\n",
      "Cambodian                  50000 non-null int64\n",
      "Canadian                   50000 non-null int64\n",
      "Caribbean                  50000 non-null int64\n",
      "Caucasian                  50000 non-null int64\n",
      "Central American           50000 non-null int64\n",
      "Central Asian              50000 non-null int64\n",
      "Central European           50000 non-null int64\n",
      "Chilean                    50000 non-null int64\n",
      "Chinese                    50000 non-null int64\n",
      "Colombian                  50000 non-null int64\n",
      "Contemporary               50000 non-null int64\n",
      "Croatian                   50000 non-null int64\n",
      "Cuban                      50000 non-null int64\n",
      "Czech                      50000 non-null int64\n",
      "Danish                     50000 non-null int64\n",
      "Delicatessen               50000 non-null int64\n",
      "Diner                      50000 non-null int64\n",
      "Dutch                      50000 non-null int64\n",
      "Eastern European           50000 non-null int64\n",
      "Ecuadorean                 50000 non-null int64\n",
      "Egyptian                   50000 non-null int64\n",
      "Ethiopian                  50000 non-null int64\n",
      "European                   50000 non-null int64\n",
      "Fast Food                  50000 non-null int64\n",
      "Filipino                   50000 non-null int64\n",
      "French                     50000 non-null int64\n",
      "Fujian                     50000 non-null int64\n",
      "Fusion                     50000 non-null int64\n",
      "Gastropub                  50000 non-null int64\n",
      "Georgian                   50000 non-null int64\n",
      "German                     50000 non-null int64\n",
      "Gluten Free Options        50000 non-null int64\n",
      "Greek                      50000 non-null int64\n",
      "Grill                      50000 non-null int64\n",
      "Halal                      50000 non-null int64\n",
      "Hawaiian                   50000 non-null int64\n",
      "Healthy                    50000 non-null int64\n",
      "Hungarian                  50000 non-null int64\n",
      "Indian                     50000 non-null int64\n",
      "Indonesian                 50000 non-null int64\n",
      "International              50000 non-null int64\n",
      "Irish                      50000 non-null int64\n",
      "Israeli                    50000 non-null int64\n",
      "Italian                    50000 non-null int64\n",
      "Jamaican                   50000 non-null int64\n",
      "Japanese                   50000 non-null int64\n",
      "Korean                     50000 non-null int64\n",
      "Kosher                     50000 non-null int64\n",
      "Latin                      50000 non-null int64\n",
      "Latvian                    50000 non-null int64\n",
      "Lebanese                   50000 non-null int64\n",
      "Malaysian                  50000 non-null int64\n",
      "Mediterranean              50000 non-null int64\n",
      "Mexican                    50000 non-null int64\n",
      "Middle Eastern             50000 non-null int64\n",
      "Minority Chinese           50000 non-null int64\n",
      "Mongolian                  50000 non-null int64\n",
      "Moroccan                   50000 non-null int64\n",
      "Native American            50000 non-null int64\n",
      "Nepali                     50000 non-null int64\n",
      "New Zealand                50000 non-null int64\n",
      "Norwegian                  50000 non-null int64\n",
      "Pakistani                  50000 non-null int64\n",
      "Persian                    50000 non-null int64\n",
      "Peruvian                   50000 non-null int64\n",
      "Pizza                      50000 non-null int64\n",
      "Polish                     50000 non-null int64\n",
      "Polynesian                 50000 non-null int64\n",
      "Portuguese                 50000 non-null int64\n",
      "Pub                        50000 non-null int64\n",
      "Romanian                   50000 non-null int64\n",
      "Russian                    50000 non-null int64\n",
      "Salvadoran                 50000 non-null int64\n",
      "Scandinavian               50000 non-null int64\n",
      "Scottish                   50000 non-null int64\n",
      "Seafood                    50000 non-null int64\n",
      "Singaporean                50000 non-null int64\n",
      "Slovenian                  50000 non-null int64\n",
      "Soups                      50000 non-null int64\n",
      "South American             50000 non-null int64\n",
      "Southwestern               50000 non-null int64\n",
      "Spanish                    50000 non-null int64\n",
      "Sri Lankan                 50000 non-null int64\n",
      "Steakhouse                 50000 non-null int64\n",
      "Street Food                50000 non-null int64\n",
      "Sushi                      50000 non-null int64\n",
      "Swedish                    50000 non-null int64\n",
      "Swiss                      50000 non-null int64\n",
      "Taiwanese                  50000 non-null int64\n",
      "Thai                       50000 non-null int64\n",
      "Tibetan                    50000 non-null int64\n",
      "Tunisian                   50000 non-null int64\n",
      "Turkish                    50000 non-null int64\n",
      "Ukrainian                  50000 non-null int64\n",
      "Uzbek                      50000 non-null int64\n",
      "Vegan Options              50000 non-null int64\n",
      "Vegetarian Friendly        50000 non-null int64\n",
      "Venezuelan                 50000 non-null int64\n",
      "Vietnamese                 50000 non-null int64\n",
      "Welsh                      50000 non-null int64\n",
      "Wine Bar                   50000 non-null int64\n",
      "Xinjiang                   50000 non-null int64\n",
      "Yunnan                     50000 non-null int64\n",
      "cuisine_style_count        50000 non-null int64\n",
      "last_review                41886 non-null object\n",
      "last_review_date           41886 non-null datetime64[ns]\n",
      "prev_review                36206 non-null object\n",
      "prev_review_date           36206 non-null datetime64[ns]\n",
      "review_days_elasped        50000 non-null float64\n",
      "last_review_len            50000 non-null int64\n",
      "prev_review_len            50000 non-null int64\n",
      "dtypes: datetime64[ns](2), float64(4), int64(131), object(8), uint8(3)\n",
      "memory usage: 55.5+ MB\n"
     ]
    }
   ],
   "source": [
    "data.info(verbose=True, null_counts=True)"
   ]
  },
  {
   "cell_type": "code",
   "execution_count": 48,
   "metadata": {
    "execution": {
     "iopub.execute_input": "2021-07-09T14:07:54.365381Z",
     "iopub.status.busy": "2021-07-09T14:07:54.364990Z",
     "iopub.status.idle": "2021-07-09T14:07:54.455756Z",
     "shell.execute_reply": "2021-07-09T14:07:54.454565Z",
     "shell.execute_reply.started": "2021-07-09T14:07:54.365290Z"
    }
   },
   "outputs": [],
   "source": [
    "#новые полиномиальные признаки\n",
    "data['number_reviews_ranking'] = data['Number of Reviews'] * data['Ranking']\n",
    "data['numberofr_rank'] = data['Number of Reviews'] / data['Ranking']"
   ]
  },
  {
   "cell_type": "code",
   "execution_count": 49,
   "metadata": {
    "execution": {
     "iopub.execute_input": "2021-07-09T14:07:54.457373Z",
     "iopub.status.busy": "2021-07-09T14:07:54.457058Z",
     "iopub.status.idle": "2021-07-09T14:07:54.988802Z",
     "shell.execute_reply": "2021-07-09T14:07:54.987898Z",
     "shell.execute_reply.started": "2021-07-09T14:07:54.457291Z"
    }
   },
   "outputs": [],
   "source": [
    "#функции определения положительных и отрицательных слов в отзывах\n",
    "def find_good_words(s):\n",
    "    \"\"\"\n",
    "    Выявление количества положительных слов в отзывах\n",
    "    \"\"\"\n",
    "    good_words = ['good', 'yummy', 'fine', 'great', 'tasty',\n",
    "                  'satisfaction', 'amazing', 'nice', 'best',\n",
    "                  'friendly', 'pleasant', 'exellent', 'loved',\n",
    "                  'love', 'lovely', 'welcoming', 'wonderful',\n",
    "                  'perfect', 'delicious', 'favourite', 'sweet',\n",
    "                  'yum', 'adequate', 'happy', 'beautiful', 'liked', \n",
    "                  'like', 'finest', 'greatest', 'excellent', 'paramount', \n",
    "                  'preeminent', 'superlative', 'top', 'unsurpassed', \n",
    "                  'amazing', 'astonishing', 'awe-inspiring', 'awesome', \n",
    "                  'awful', 'awing']\n",
    "    count = 0\n",
    "    for item in good_words:\n",
    "        if item in s:\n",
    "            count += 1\n",
    "    return(count)\n",
    "\n",
    "def find_bad_words(s):\n",
    "    \"\"\"\n",
    "    Выявление количества отрицательных слов в отзывах\n",
    "    \"\"\"\n",
    "    bad_words = ['bad', \"poor\", \"ill\", \"low\", \"inferior\", \"wretched\",\n",
    "                 'badly', 'awry', \"unpalatable\", \"unappetizing\", \"unsavory\",\n",
    "                 \"istasteful\", \"unpleasant\", \"nasty\", \"dirty\", \"rough\", \"roughly\", \"tough\",\n",
    "                 \"ugly\", \"graceless\", \"rudeness\", 'boorishness', 'loutishness', \n",
    "                 'disagreeable', 'nasty', 'soiled', 'sordid', 'unclean', 'unwashed',\n",
    "                 'indecent', 'lewd', 'obscene', 'raunchy', 'salacious',\n",
    "                 'cheating', 'foul', 'unsporting', 'unsportsmanlike']\n",
    "    count = 0\n",
    "    for item in bad_words:\n",
    "        if item in s:\n",
    "            count += 1\n",
    "    return(count)\n",
    "\n",
    "data['Good_rev'] = data.Reviews.str.lower().apply(find_good_words)\n",
    "data['Bad_rev'] = data.Reviews.str.lower().apply(find_bad_words)\n",
    "data['Rev_delta'] = data['Good_rev'] - data['Bad_rev']"
   ]
  },
  {
   "cell_type": "code",
   "execution_count": 50,
   "metadata": {
    "execution": {
     "iopub.execute_input": "2021-07-09T14:07:54.990557Z",
     "iopub.status.busy": "2021-07-09T14:07:54.990259Z",
     "iopub.status.idle": "2021-07-09T14:07:55.050822Z",
     "shell.execute_reply": "2021-07-09T14:07:55.049921Z",
     "shell.execute_reply.started": "2021-07-09T14:07:54.990506Z"
    }
   },
   "outputs": [],
   "source": [
    "# убираем не нужные для модели признаки\n",
    "data.drop(['Restaurant_id', 'Cuisine Style', 'Reviews', 'ID_TA','URL_TA', \\\n",
    "                 'last_review', 'last_review_date', 'prev_review', 'prev_review_date'], axis = 1, inplace=True)"
   ]
  },
  {
   "cell_type": "code",
   "execution_count": 51,
   "metadata": {
    "execution": {
     "iopub.execute_input": "2021-07-09T14:07:55.052329Z",
     "iopub.status.busy": "2021-07-09T14:07:55.052047Z",
     "iopub.status.idle": "2021-07-09T14:07:55.098279Z",
     "shell.execute_reply": "2021-07-09T14:07:55.097290Z",
     "shell.execute_reply.started": "2021-07-09T14:07:55.052266Z"
    }
   },
   "outputs": [
    {
     "name": "stdout",
     "output_type": "stream",
     "text": [
      "<class 'pandas.core.frame.DataFrame'>\n",
      "RangeIndex: 50000 entries, 0 to 49999\n",
      "Data columns (total 144 columns):\n",
      "City                       50000 non-null object\n",
      "Ranking                    50000 non-null float64\n",
      "Price Range                50000 non-null int64\n",
      "Number of Reviews          50000 non-null float64\n",
      "sample                     50000 non-null int64\n",
      "Rating                     50000 non-null float64\n",
      "Number_of_Reviews_isNAN    50000 non-null uint8\n",
      "Cuisine_Style_isNAN        50000 non-null uint8\n",
      "Price_Range_isNAN          50000 non-null uint8\n",
      "Reviews_isNaN              50000 non-null int64\n",
      "Afghani                    50000 non-null int64\n",
      "African                    50000 non-null int64\n",
      "Albanian                   50000 non-null int64\n",
      "American                   50000 non-null int64\n",
      "Arabic                     50000 non-null int64\n",
      "Argentinean                50000 non-null int64\n",
      "Armenian                   50000 non-null int64\n",
      "Asian                      50000 non-null int64\n",
      "Australian                 50000 non-null int64\n",
      "Austrian                   50000 non-null int64\n",
      "Azerbaijani                50000 non-null int64\n",
      "Balti                      50000 non-null int64\n",
      "Bangladeshi                50000 non-null int64\n",
      "Bar                        50000 non-null int64\n",
      "Barbecue                   50000 non-null int64\n",
      "Belgian                    50000 non-null int64\n",
      "Brazilian                  50000 non-null int64\n",
      "Brew Pub                   50000 non-null int64\n",
      "British                    50000 non-null int64\n",
      "Burmese                    50000 non-null int64\n",
      "Cafe                       50000 non-null int64\n",
      "Cajun & Creole             50000 non-null int64\n",
      "Cambodian                  50000 non-null int64\n",
      "Canadian                   50000 non-null int64\n",
      "Caribbean                  50000 non-null int64\n",
      "Caucasian                  50000 non-null int64\n",
      "Central American           50000 non-null int64\n",
      "Central Asian              50000 non-null int64\n",
      "Central European           50000 non-null int64\n",
      "Chilean                    50000 non-null int64\n",
      "Chinese                    50000 non-null int64\n",
      "Colombian                  50000 non-null int64\n",
      "Contemporary               50000 non-null int64\n",
      "Croatian                   50000 non-null int64\n",
      "Cuban                      50000 non-null int64\n",
      "Czech                      50000 non-null int64\n",
      "Danish                     50000 non-null int64\n",
      "Delicatessen               50000 non-null int64\n",
      "Diner                      50000 non-null int64\n",
      "Dutch                      50000 non-null int64\n",
      "Eastern European           50000 non-null int64\n",
      "Ecuadorean                 50000 non-null int64\n",
      "Egyptian                   50000 non-null int64\n",
      "Ethiopian                  50000 non-null int64\n",
      "European                   50000 non-null int64\n",
      "Fast Food                  50000 non-null int64\n",
      "Filipino                   50000 non-null int64\n",
      "French                     50000 non-null int64\n",
      "Fujian                     50000 non-null int64\n",
      "Fusion                     50000 non-null int64\n",
      "Gastropub                  50000 non-null int64\n",
      "Georgian                   50000 non-null int64\n",
      "German                     50000 non-null int64\n",
      "Gluten Free Options        50000 non-null int64\n",
      "Greek                      50000 non-null int64\n",
      "Grill                      50000 non-null int64\n",
      "Halal                      50000 non-null int64\n",
      "Hawaiian                   50000 non-null int64\n",
      "Healthy                    50000 non-null int64\n",
      "Hungarian                  50000 non-null int64\n",
      "Indian                     50000 non-null int64\n",
      "Indonesian                 50000 non-null int64\n",
      "International              50000 non-null int64\n",
      "Irish                      50000 non-null int64\n",
      "Israeli                    50000 non-null int64\n",
      "Italian                    50000 non-null int64\n",
      "Jamaican                   50000 non-null int64\n",
      "Japanese                   50000 non-null int64\n",
      "Korean                     50000 non-null int64\n",
      "Kosher                     50000 non-null int64\n",
      "Latin                      50000 non-null int64\n",
      "Latvian                    50000 non-null int64\n",
      "Lebanese                   50000 non-null int64\n",
      "Malaysian                  50000 non-null int64\n",
      "Mediterranean              50000 non-null int64\n",
      "Mexican                    50000 non-null int64\n",
      "Middle Eastern             50000 non-null int64\n",
      "Minority Chinese           50000 non-null int64\n",
      "Mongolian                  50000 non-null int64\n",
      "Moroccan                   50000 non-null int64\n",
      "Native American            50000 non-null int64\n",
      "Nepali                     50000 non-null int64\n",
      "New Zealand                50000 non-null int64\n",
      "Norwegian                  50000 non-null int64\n",
      "Pakistani                  50000 non-null int64\n",
      "Persian                    50000 non-null int64\n",
      "Peruvian                   50000 non-null int64\n",
      "Pizza                      50000 non-null int64\n",
      "Polish                     50000 non-null int64\n",
      "Polynesian                 50000 non-null int64\n",
      "Portuguese                 50000 non-null int64\n",
      "Pub                        50000 non-null int64\n",
      "Romanian                   50000 non-null int64\n",
      "Russian                    50000 non-null int64\n",
      "Salvadoran                 50000 non-null int64\n",
      "Scandinavian               50000 non-null int64\n",
      "Scottish                   50000 non-null int64\n",
      "Seafood                    50000 non-null int64\n",
      "Singaporean                50000 non-null int64\n",
      "Slovenian                  50000 non-null int64\n",
      "Soups                      50000 non-null int64\n",
      "South American             50000 non-null int64\n",
      "Southwestern               50000 non-null int64\n",
      "Spanish                    50000 non-null int64\n",
      "Sri Lankan                 50000 non-null int64\n",
      "Steakhouse                 50000 non-null int64\n",
      "Street Food                50000 non-null int64\n",
      "Sushi                      50000 non-null int64\n",
      "Swedish                    50000 non-null int64\n",
      "Swiss                      50000 non-null int64\n",
      "Taiwanese                  50000 non-null int64\n",
      "Thai                       50000 non-null int64\n",
      "Tibetan                    50000 non-null int64\n",
      "Tunisian                   50000 non-null int64\n",
      "Turkish                    50000 non-null int64\n",
      "Ukrainian                  50000 non-null int64\n",
      "Uzbek                      50000 non-null int64\n",
      "Vegan Options              50000 non-null int64\n",
      "Vegetarian Friendly        50000 non-null int64\n",
      "Venezuelan                 50000 non-null int64\n",
      "Vietnamese                 50000 non-null int64\n",
      "Welsh                      50000 non-null int64\n",
      "Wine Bar                   50000 non-null int64\n",
      "Xinjiang                   50000 non-null int64\n",
      "Yunnan                     50000 non-null int64\n",
      "cuisine_style_count        50000 non-null int64\n",
      "review_days_elasped        50000 non-null float64\n",
      "last_review_len            50000 non-null int64\n",
      "prev_review_len            50000 non-null int64\n",
      "number_reviews_ranking     50000 non-null float64\n",
      "numberofr_rank             50000 non-null float64\n",
      "Good_rev                   50000 non-null int64\n",
      "Bad_rev                    50000 non-null int64\n",
      "Rev_delta                  50000 non-null int64\n",
      "dtypes: float64(6), int64(134), object(1), uint8(3)\n",
      "memory usage: 53.9+ MB\n"
     ]
    }
   ],
   "source": [
    "data.info(verbose=True, null_counts=True)"
   ]
  },
  {
   "cell_type": "code",
   "execution_count": 52,
   "metadata": {
    "execution": {
     "iopub.execute_input": "2021-07-09T14:07:55.100131Z",
     "iopub.status.busy": "2021-07-09T14:07:55.099751Z",
     "iopub.status.idle": "2021-07-09T14:07:55.154742Z",
     "shell.execute_reply": "2021-07-09T14:07:55.153818Z",
     "shell.execute_reply.started": "2021-07-09T14:07:55.100072Z"
    }
   },
   "outputs": [],
   "source": [
    "# Создание dummi-переменных по колонке 'City'\n",
    "data = pd.get_dummies(data, columns=['City'], dummy_na=True)"
   ]
  },
  {
   "cell_type": "markdown",
   "metadata": {},
   "source": [
    "### Графики и диаграммы"
   ]
  },
  {
   "cell_type": "code",
   "execution_count": 54,
   "metadata": {
    "execution": {
     "iopub.execute_input": "2021-07-09T14:10:10.025554Z",
     "iopub.status.busy": "2021-07-09T14:10:10.025194Z",
     "iopub.status.idle": "2021-07-09T14:10:10.628783Z",
     "shell.execute_reply": "2021-07-09T14:10:10.627433Z",
     "shell.execute_reply.started": "2021-07-09T14:10:10.025490Z"
    }
   },
   "outputs": [
    {
     "data": {
      "text/plain": [
       "<matplotlib.axes._subplots.AxesSubplot at 0x7f0ef0657208>"
      ]
     },
     "execution_count": 54,
     "metadata": {},
     "output_type": "execute_result"
    },
    {
     "data": {
      "image/png": "[encoded data removed]",
      "text/plain": [
       "<Figure size 720x504 with 1 Axes>"
      ]
     },
     "metadata": {
      "needs_background": "light"
     },
     "output_type": "display_data"
    }
   ],
   "source": [
    "plt.rcParams['figure.figsize'] = (10,7)\n",
    "df_train['Ranking'].hist(bins=150)"
   ]
  },
  {
   "cell_type": "markdown",
   "metadata": {},
   "source": [
    "У нас много ресторанов, которые не дотягивают и до 2500 места в своем городе, а что там по городам?"
   ]
  },
  {
   "cell_type": "code",
   "execution_count": 55,
   "metadata": {
    "execution": {
     "iopub.execute_input": "2021-07-09T14:10:30.579574Z",
     "iopub.status.busy": "2021-07-09T14:10:30.579058Z",
     "iopub.status.idle": "2021-07-09T14:10:30.987860Z",
     "shell.execute_reply": "2021-07-09T14:10:30.987166Z",
     "shell.execute_reply.started": "2021-07-09T14:10:30.579515Z"
    }
   },
   "outputs": [
    {
     "data": {
      "text/plain": [
       "<matplotlib.axes._subplots.AxesSubplot at 0x7f0ef7751ba8>"
      ]
     },
     "execution_count": 55,
     "metadata": {},
     "output_type": "execute_result"
    },
    {
     "data": {
      "image/png": "[encoded data removed]",
      "text/plain": [
       "<Figure size 720x504 with 1 Axes>"
      ]
     },
     "metadata": {
      "needs_background": "light"
     },
     "output_type": "display_data"
    }
   ],
   "source": [
    "df_train['City'].value_counts(ascending=True).plot(kind='barh')"
   ]
  },
  {
   "cell_type": "markdown",
   "metadata": {},
   "source": [
    "А кто-то говорил, что французы любят поесть=) Посмотрим, как изменится распределение в большом городе:"
   ]
  },
  {
   "cell_type": "code",
   "execution_count": 56,
   "metadata": {
    "execution": {
     "iopub.execute_input": "2021-07-09T14:10:55.528373Z",
     "iopub.status.busy": "2021-07-09T14:10:55.527848Z",
     "iopub.status.idle": "2021-07-09T14:10:55.890986Z",
     "shell.execute_reply": "2021-07-09T14:10:55.890166Z",
     "shell.execute_reply.started": "2021-07-09T14:10:55.528289Z"
    }
   },
   "outputs": [
    {
     "data": {
      "text/plain": [
       "<matplotlib.axes._subplots.AxesSubplot at 0x7f0ef0673978>"
      ]
     },
     "execution_count": 56,
     "metadata": {},
     "output_type": "execute_result"
    },
    {
     "data": {
      "image/png": "[encoded data removed]",
      "text/plain": [
       "<Figure size 720x504 with 1 Axes>"
      ]
     },
     "metadata": {
      "needs_background": "light"
     },
     "output_type": "display_data"
    }
   ],
   "source": [
    "df_train['Ranking'][df_train['City'] =='London'].hist(bins=100)"
   ]
  },
  {
   "cell_type": "code",
   "execution_count": 57,
   "metadata": {
    "execution": {
     "iopub.execute_input": "2021-07-09T14:11:10.710092Z",
     "iopub.status.busy": "2021-07-09T14:11:10.709776Z",
     "iopub.status.idle": "2021-07-09T14:11:12.914613Z",
     "shell.execute_reply": "2021-07-09T14:11:12.913465Z",
     "shell.execute_reply.started": "2021-07-09T14:11:10.710050Z"
    }
   },
   "outputs": [
    {
     "data": {
      "image/png": "[encoded data removed]",
      "text/plain": [
       "<Figure size 720x504 with 1 Axes>"
      ]
     },
     "metadata": {
      "needs_background": "light"
     },
     "output_type": "display_data"
    }
   ],
   "source": [
    "# посмотрим на топ 10 городов\n",
    "for x in (df_train['City'].value_counts())[0:10].index:\n",
    "    df_train['Ranking'][df_train['City'] == x].hist(bins=100)\n",
    "plt.show()"
   ]
  },
  {
   "cell_type": "markdown",
   "metadata": {},
   "source": [
    "### Распределение целевой переменной"
   ]
  },
  {
   "cell_type": "code",
   "execution_count": 58,
   "metadata": {
    "execution": {
     "iopub.execute_input": "2021-07-09T14:11:50.381208Z",
     "iopub.status.busy": "2021-07-09T14:11:50.380880Z",
     "iopub.status.idle": "2021-07-09T14:11:50.645399Z",
     "shell.execute_reply": "2021-07-09T14:11:50.644394Z",
     "shell.execute_reply.started": "2021-07-09T14:11:50.381149Z"
    }
   },
   "outputs": [
    {
     "data": {
      "text/plain": [
       "<matplotlib.axes._subplots.AxesSubplot at 0x7f0f0be43ac8>"
      ]
     },
     "execution_count": 58,
     "metadata": {},
     "output_type": "execute_result"
    },
    {
     "data": {
      "image/png": "[encoded data removed]",
      "text/plain": [
       "<Figure size 720x504 with 1 Axes>"
      ]
     },
     "metadata": {
      "needs_background": "light"
     },
     "output_type": "display_data"
    }
   ],
   "source": [
    "df_train['Rating'].value_counts(ascending=True).plot(kind='barh')"
   ]
  },
  {
   "cell_type": "markdown",
   "metadata": {},
   "source": [
    "### Посмотрим распределение целевой переменной относительно признака"
   ]
  },
  {
   "cell_type": "code",
   "execution_count": 59,
   "metadata": {
    "execution": {
     "iopub.execute_input": "2021-07-09T14:12:16.184660Z",
     "iopub.status.busy": "2021-07-09T14:12:16.184193Z",
     "iopub.status.idle": "2021-07-09T14:12:16.629773Z",
     "shell.execute_reply": "2021-07-09T14:12:16.628777Z",
     "shell.execute_reply.started": "2021-07-09T14:12:16.184614Z"
    }
   },
   "outputs": [
    {
     "data": {
      "text/plain": [
       "<matplotlib.axes._subplots.AxesSubplot at 0x7f0ef7ef9a20>"
      ]
     },
     "execution_count": 59,
     "metadata": {},
     "output_type": "execute_result"
    },
    {
     "data": {
      "image/png": "[encoded data removed]",
      "text/plain": [
       "<Figure size 720x504 with 1 Axes>"
      ]
     },
     "metadata": {
      "needs_background": "light"
     },
     "output_type": "display_data"
    }
   ],
   "source": [
    "df_train['Ranking'][df_train['Rating'] == 5].hist(bins=100)"
   ]
  },
  {
   "cell_type": "code",
   "execution_count": 60,
   "metadata": {
    "execution": {
     "iopub.execute_input": "2021-07-09T14:12:25.824952Z",
     "iopub.status.busy": "2021-07-09T14:12:25.824520Z",
     "iopub.status.idle": "2021-07-09T14:12:26.260204Z",
     "shell.execute_reply": "2021-07-09T14:12:26.259188Z",
     "shell.execute_reply.started": "2021-07-09T14:12:25.824910Z"
    }
   },
   "outputs": [
    {
     "data": {
      "text/plain": [
       "<matplotlib.axes._subplots.AxesSubplot at 0x7f0ef7d0cba8>"
      ]
     },
     "execution_count": 60,
     "metadata": {},
     "output_type": "execute_result"
    },
    {
     "data": {
      "image/png": "[encoded data removed]",
      "text/plain": [
       "<Figure size 720x504 with 1 Axes>"
      ]
     },
     "metadata": {
      "needs_background": "light"
     },
     "output_type": "display_data"
    }
   ],
   "source": [
    "df_train['Ranking'][df_train['Rating'] < 4].hist(bins=100)"
   ]
  },
  {
   "cell_type": "markdown",
   "metadata": {},
   "source": [
    "# Data Preprocessing"
   ]
  },
  {
   "cell_type": "code",
   "execution_count": 73,
   "metadata": {
    "execution": {
     "iopub.execute_input": "2021-07-09T14:16:57.249117Z",
     "iopub.status.busy": "2021-07-09T14:16:57.248661Z",
     "iopub.status.idle": "2021-07-09T14:16:57.253714Z",
     "shell.execute_reply": "2021-07-09T14:16:57.252689Z",
     "shell.execute_reply.started": "2021-07-09T14:16:57.249064Z"
    }
   },
   "outputs": [],
   "source": [
    "df_preproc = data"
   ]
  },
  {
   "cell_type": "code",
   "execution_count": 74,
   "metadata": {
    "execution": {
     "iopub.execute_input": "2021-07-09T14:17:02.315612Z",
     "iopub.status.busy": "2021-07-09T14:17:02.315290Z",
     "iopub.status.idle": "2021-07-09T14:17:02.327401Z",
     "shell.execute_reply": "2021-07-09T14:17:02.326309Z",
     "shell.execute_reply.started": "2021-07-09T14:17:02.315564Z"
    }
   },
   "outputs": [
    {
     "name": "stdout",
     "output_type": "stream",
     "text": [
      "<class 'pandas.core.frame.DataFrame'>\n",
      "RangeIndex: 50000 entries, 0 to 49999\n",
      "Columns: 175 entries, Ranking to City_nan\n",
      "dtypes: float64(6), int64(134), uint8(35)\n",
      "memory usage: 55.1 MB\n"
     ]
    }
   ],
   "source": [
    "df_preproc.info()"
   ]
  },
  {
   "cell_type": "code",
   "execution_count": 75,
   "metadata": {
    "execution": {
     "iopub.execute_input": "2021-07-09T14:17:06.793861Z",
     "iopub.status.busy": "2021-07-09T14:17:06.793272Z",
     "iopub.status.idle": "2021-07-09T14:17:06.881056Z",
     "shell.execute_reply": "2021-07-09T14:17:06.880001Z",
     "shell.execute_reply.started": "2021-07-09T14:17:06.793793Z"
    }
   },
   "outputs": [],
   "source": [
    "# Выделение тестовой части\n",
    "train_data = df_preproc.query('sample == 1').drop(['sample'], axis=1)\n",
    "test_data = df_preproc.query('sample == 0').drop(['sample'], axis=1)\n",
    "\n",
    "y = train_data.Rating.values            # наш таргет\n",
    "X = train_data.drop(['Rating'], axis=1)"
   ]
  },
  {
   "cell_type": "markdown",
   "metadata": {},
   "source": [
    "**Перед тем как отправлять наши данные на обучение, разделим данные на еще один тест и трейн, для валидации. \n",
    "Это поможет нам проверить, как хорошо наша модель работает, до отправки submissiona на kaggle.**"
   ]
  },
  {
   "cell_type": "code",
   "execution_count": 76,
   "metadata": {
    "execution": {
     "iopub.execute_input": "2021-07-09T14:17:55.212506Z",
     "iopub.status.busy": "2021-07-09T14:17:55.212172Z",
     "iopub.status.idle": "2021-07-09T14:17:55.262278Z",
     "shell.execute_reply": "2021-07-09T14:17:55.261470Z",
     "shell.execute_reply.started": "2021-07-09T14:17:55.212445Z"
    }
   },
   "outputs": [],
   "source": [
    "# Воспользуемся специальной функцие train_test_split для разбивки тестовых данных\n",
    "# выделим 20% данных на валидацию (параметр test_size)\n",
    "X_train, X_test, y_train, y_test = train_test_split(X, y, test_size=0.2, random_state=RANDOM_SEED)"
   ]
  },
  {
   "cell_type": "code",
   "execution_count": 77,
   "metadata": {
    "execution": {
     "iopub.execute_input": "2021-07-09T14:17:59.262532Z",
     "iopub.status.busy": "2021-07-09T14:17:59.262174Z",
     "iopub.status.idle": "2021-07-09T14:17:59.268542Z",
     "shell.execute_reply": "2021-07-09T14:17:59.267904Z",
     "shell.execute_reply.started": "2021-07-09T14:17:59.262470Z"
    }
   },
   "outputs": [
    {
     "data": {
      "text/plain": [
       "((10000, 174), (40000, 174), (40000, 173), (32000, 173), (8000, 173))"
      ]
     },
     "execution_count": 77,
     "metadata": {},
     "output_type": "execute_result"
    }
   ],
   "source": [
    "# проверяем\n",
    "test_data.shape, train_data.shape, X.shape, X_train.shape, X_test.shape"
   ]
  },
  {
   "cell_type": "markdown",
   "metadata": {},
   "source": [
    "# Model \n",
    "Сам ML"
   ]
  },
  {
   "cell_type": "code",
   "execution_count": 78,
   "metadata": {
    "execution": {
     "iopub.execute_input": "2021-07-09T14:18:04.004250Z",
     "iopub.status.busy": "2021-07-09T14:18:04.003703Z",
     "iopub.status.idle": "2021-07-09T14:18:04.008135Z",
     "shell.execute_reply": "2021-07-09T14:18:04.006877Z",
     "shell.execute_reply.started": "2021-07-09T14:18:04.004198Z"
    }
   },
   "outputs": [],
   "source": [
    "# Импортируем необходимые библиотеки:\n",
    "from sklearn.ensemble import RandomForestRegressor # инструмент для создания и обучения модели\n",
    "from sklearn import metrics # инструменты для оценки точности модели"
   ]
  },
  {
   "cell_type": "code",
   "execution_count": 79,
   "metadata": {
    "execution": {
     "iopub.execute_input": "2021-07-09T14:18:07.870730Z",
     "iopub.status.busy": "2021-07-09T14:18:07.870126Z",
     "iopub.status.idle": "2021-07-09T14:18:07.875983Z",
     "shell.execute_reply": "2021-07-09T14:18:07.875373Z",
     "shell.execute_reply.started": "2021-07-09T14:18:07.870659Z"
    }
   },
   "outputs": [],
   "source": [
    "# Создаём модель (НАСТРОЙКИ НЕ ТРОГАЕМ)\n",
    "model = RandomForestRegressor(n_estimators=100, verbose=1, n_jobs=-1, random_state=RANDOM_SEED)"
   ]
  },
  {
   "cell_type": "code",
   "execution_count": 80,
   "metadata": {
    "execution": {
     "iopub.execute_input": "2021-07-09T14:18:15.000360Z",
     "iopub.status.busy": "2021-07-09T14:18:14.999830Z",
     "iopub.status.idle": "2021-07-09T14:18:37.583670Z",
     "shell.execute_reply": "2021-07-09T14:18:37.582757Z",
     "shell.execute_reply.started": "2021-07-09T14:18:15.000275Z"
    }
   },
   "outputs": [
    {
     "name": "stderr",
     "output_type": "stream",
     "text": [
      "[Parallel(n_jobs=-1)]: Using backend ThreadingBackend with 4 concurrent workers.\n",
      "[Parallel(n_jobs=-1)]: Done  42 tasks      | elapsed:    9.9s\n",
      "[Parallel(n_jobs=-1)]: Done 100 out of 100 | elapsed:   22.2s finished\n",
      "[Parallel(n_jobs=4)]: Using backend ThreadingBackend with 4 concurrent workers.\n",
      "[Parallel(n_jobs=4)]: Done  42 tasks      | elapsed:    0.2s\n",
      "[Parallel(n_jobs=4)]: Done 100 out of 100 | elapsed:    0.2s finished\n"
     ]
    }
   ],
   "source": [
    "# Обучаем модель на тестовом наборе данных\n",
    "model.fit(X_train, y_train)\n",
    "\n",
    "# Используем обученную модель для предсказания рейтинга ресторанов в тестовой выборке.\n",
    "# Предсказанные значения записываем в переменную y_pred\n",
    "y_pred = model.predict(X_test)"
   ]
  },
  {
   "cell_type": "code",
   "execution_count": 81,
   "metadata": {
    "execution": {
     "iopub.execute_input": "2021-07-09T14:18:46.845378Z",
     "iopub.status.busy": "2021-07-09T14:18:46.845061Z",
     "iopub.status.idle": "2021-07-09T14:18:46.851686Z",
     "shell.execute_reply": "2021-07-09T14:18:46.850581Z",
     "shell.execute_reply.started": "2021-07-09T14:18:46.845331Z"
    }
   },
   "outputs": [
    {
     "name": "stdout",
     "output_type": "stream",
     "text": [
      "MAE: 0.209504375\n"
     ]
    }
   ],
   "source": [
    "# Сравниваем предсказанные значения (y_pred) с реальными (y_test), и смотрим насколько они в среднем отличаются\n",
    "# Метрика называется Mean Absolute Error (MAE) и показывает среднее отклонение предсказанных значений от фактических.\n",
    "print('MAE:', metrics.mean_absolute_error(y_test, y_pred))"
   ]
  },
  {
   "cell_type": "code",
   "execution_count": 82,
   "metadata": {
    "execution": {
     "iopub.execute_input": "2021-07-09T14:18:51.386361Z",
     "iopub.status.busy": "2021-07-09T14:18:51.386030Z",
     "iopub.status.idle": "2021-07-09T14:18:51.833402Z",
     "shell.execute_reply": "2021-07-09T14:18:51.832402Z",
     "shell.execute_reply.started": "2021-07-09T14:18:51.386297Z"
    }
   },
   "outputs": [
    {
     "data": {
      "text/plain": [
       "<matplotlib.axes._subplots.AxesSubplot at 0x7f0ef783ae80>"
      ]
     },
     "execution_count": 82,
     "metadata": {},
     "output_type": "execute_result"
    },
    {
     "data": {
      "image/png": "[encoded data removed]",
      "text/plain": [
       "<Figure size 720x720 with 1 Axes>"
      ]
     },
     "metadata": {
      "needs_background": "light"
     },
     "output_type": "display_data"
    }
   ],
   "source": [
    "# в RandomForestRegressor есть возможность вывести самые важные признаки для модели\n",
    "plt.rcParams['figure.figsize'] = (10,10)\n",
    "feat_importances = pd.Series(model.feature_importances_, index=X.columns)\n",
    "feat_importances.nlargest(15).plot(kind='barh')"
   ]
  },
  {
   "cell_type": "markdown",
   "metadata": {},
   "source": [
    "# Submission\n",
    "Если все устраевает - готовим Submission на кагл"
   ]
  },
  {
   "cell_type": "code",
   "execution_count": 83,
   "metadata": {
    "execution": {
     "iopub.execute_input": "2021-07-09T14:19:05.369429Z",
     "iopub.status.busy": "2021-07-09T14:19:05.369114Z",
     "iopub.status.idle": "2021-07-09T14:19:05.397104Z",
     "shell.execute_reply": "2021-07-09T14:19:05.396431Z",
     "shell.execute_reply.started": "2021-07-09T14:19:05.369380Z"
    }
   },
   "outputs": [
    {
     "data": {
      "text/html": [
       "<div>\n",
       "<style scoped>\n",
       "    .dataframe tbody tr th:only-of-type {\n",
       "        vertical-align: middle;\n",
       "    }\n",
       "\n",
       "    .dataframe tbody tr th {\n",
       "        vertical-align: top;\n",
       "    }\n",
       "\n",
       "    .dataframe thead th {\n",
       "        text-align: right;\n",
       "    }\n",
       "</style>\n",
       "<table border=\"1\" class=\"dataframe\">\n",
       "  <thead>\n",
       "    <tr style=\"text-align: right;\">\n",
       "      <th></th>\n",
       "      <th>Ranking</th>\n",
       "      <th>Price Range</th>\n",
       "      <th>Number of Reviews</th>\n",
       "      <th>Rating</th>\n",
       "      <th>Number_of_Reviews_isNAN</th>\n",
       "      <th>Cuisine_Style_isNAN</th>\n",
       "      <th>Price_Range_isNAN</th>\n",
       "      <th>Reviews_isNaN</th>\n",
       "      <th>Afghani</th>\n",
       "      <th>African</th>\n",
       "      <th>...</th>\n",
       "      <th>City_Oporto</th>\n",
       "      <th>City_Oslo</th>\n",
       "      <th>City_Paris</th>\n",
       "      <th>City_Prague</th>\n",
       "      <th>City_Rome</th>\n",
       "      <th>City_Stockholm</th>\n",
       "      <th>City_Vienna</th>\n",
       "      <th>City_Warsaw</th>\n",
       "      <th>City_Zurich</th>\n",
       "      <th>City_nan</th>\n",
       "    </tr>\n",
       "  </thead>\n",
       "  <tbody>\n",
       "    <tr>\n",
       "      <th>520</th>\n",
       "      <td>8636.0</td>\n",
       "      <td>2</td>\n",
       "      <td>70.0</td>\n",
       "      <td>0.0</td>\n",
       "      <td>0</td>\n",
       "      <td>0</td>\n",
       "      <td>0</td>\n",
       "      <td>0</td>\n",
       "      <td>0</td>\n",
       "      <td>0</td>\n",
       "      <td>...</td>\n",
       "      <td>0</td>\n",
       "      <td>0</td>\n",
       "      <td>0</td>\n",
       "      <td>0</td>\n",
       "      <td>0</td>\n",
       "      <td>0</td>\n",
       "      <td>0</td>\n",
       "      <td>0</td>\n",
       "      <td>0</td>\n",
       "      <td>0</td>\n",
       "    </tr>\n",
       "    <tr>\n",
       "      <th>5472</th>\n",
       "      <td>13080.0</td>\n",
       "      <td>2</td>\n",
       "      <td>2.0</td>\n",
       "      <td>0.0</td>\n",
       "      <td>0</td>\n",
       "      <td>1</td>\n",
       "      <td>1</td>\n",
       "      <td>1</td>\n",
       "      <td>0</td>\n",
       "      <td>0</td>\n",
       "      <td>...</td>\n",
       "      <td>0</td>\n",
       "      <td>0</td>\n",
       "      <td>1</td>\n",
       "      <td>0</td>\n",
       "      <td>0</td>\n",
       "      <td>0</td>\n",
       "      <td>0</td>\n",
       "      <td>0</td>\n",
       "      <td>0</td>\n",
       "      <td>0</td>\n",
       "    </tr>\n",
       "    <tr>\n",
       "      <th>8450</th>\n",
       "      <td>1128.0</td>\n",
       "      <td>2</td>\n",
       "      <td>2.0</td>\n",
       "      <td>0.0</td>\n",
       "      <td>0</td>\n",
       "      <td>1</td>\n",
       "      <td>1</td>\n",
       "      <td>1</td>\n",
       "      <td>0</td>\n",
       "      <td>0</td>\n",
       "      <td>...</td>\n",
       "      <td>0</td>\n",
       "      <td>0</td>\n",
       "      <td>0</td>\n",
       "      <td>0</td>\n",
       "      <td>0</td>\n",
       "      <td>0</td>\n",
       "      <td>0</td>\n",
       "      <td>0</td>\n",
       "      <td>0</td>\n",
       "      <td>0</td>\n",
       "    </tr>\n",
       "    <tr>\n",
       "      <th>2128</th>\n",
       "      <td>1378.0</td>\n",
       "      <td>2</td>\n",
       "      <td>7.0</td>\n",
       "      <td>0.0</td>\n",
       "      <td>0</td>\n",
       "      <td>1</td>\n",
       "      <td>1</td>\n",
       "      <td>1</td>\n",
       "      <td>0</td>\n",
       "      <td>0</td>\n",
       "      <td>...</td>\n",
       "      <td>0</td>\n",
       "      <td>0</td>\n",
       "      <td>0</td>\n",
       "      <td>0</td>\n",
       "      <td>0</td>\n",
       "      <td>0</td>\n",
       "      <td>0</td>\n",
       "      <td>0</td>\n",
       "      <td>0</td>\n",
       "      <td>0</td>\n",
       "    </tr>\n",
       "    <tr>\n",
       "      <th>6992</th>\n",
       "      <td>403.0</td>\n",
       "      <td>2</td>\n",
       "      <td>3.0</td>\n",
       "      <td>0.0</td>\n",
       "      <td>0</td>\n",
       "      <td>0</td>\n",
       "      <td>1</td>\n",
       "      <td>0</td>\n",
       "      <td>0</td>\n",
       "      <td>0</td>\n",
       "      <td>...</td>\n",
       "      <td>0</td>\n",
       "      <td>0</td>\n",
       "      <td>0</td>\n",
       "      <td>0</td>\n",
       "      <td>0</td>\n",
       "      <td>0</td>\n",
       "      <td>0</td>\n",
       "      <td>0</td>\n",
       "      <td>0</td>\n",
       "      <td>0</td>\n",
       "    </tr>\n",
       "    <tr>\n",
       "      <th>9386</th>\n",
       "      <td>2307.0</td>\n",
       "      <td>2</td>\n",
       "      <td>958.0</td>\n",
       "      <td>0.0</td>\n",
       "      <td>0</td>\n",
       "      <td>0</td>\n",
       "      <td>0</td>\n",
       "      <td>0</td>\n",
       "      <td>0</td>\n",
       "      <td>0</td>\n",
       "      <td>...</td>\n",
       "      <td>0</td>\n",
       "      <td>0</td>\n",
       "      <td>0</td>\n",
       "      <td>0</td>\n",
       "      <td>0</td>\n",
       "      <td>0</td>\n",
       "      <td>0</td>\n",
       "      <td>0</td>\n",
       "      <td>0</td>\n",
       "      <td>0</td>\n",
       "    </tr>\n",
       "    <tr>\n",
       "      <th>7418</th>\n",
       "      <td>5402.0</td>\n",
       "      <td>2</td>\n",
       "      <td>7.0</td>\n",
       "      <td>0.0</td>\n",
       "      <td>0</td>\n",
       "      <td>0</td>\n",
       "      <td>1</td>\n",
       "      <td>1</td>\n",
       "      <td>0</td>\n",
       "      <td>0</td>\n",
       "      <td>...</td>\n",
       "      <td>0</td>\n",
       "      <td>0</td>\n",
       "      <td>0</td>\n",
       "      <td>0</td>\n",
       "      <td>0</td>\n",
       "      <td>0</td>\n",
       "      <td>0</td>\n",
       "      <td>0</td>\n",
       "      <td>0</td>\n",
       "      <td>0</td>\n",
       "    </tr>\n",
       "    <tr>\n",
       "      <th>1669</th>\n",
       "      <td>5516.0</td>\n",
       "      <td>2</td>\n",
       "      <td>24.0</td>\n",
       "      <td>0.0</td>\n",
       "      <td>0</td>\n",
       "      <td>1</td>\n",
       "      <td>1</td>\n",
       "      <td>0</td>\n",
       "      <td>0</td>\n",
       "      <td>0</td>\n",
       "      <td>...</td>\n",
       "      <td>0</td>\n",
       "      <td>0</td>\n",
       "      <td>0</td>\n",
       "      <td>0</td>\n",
       "      <td>0</td>\n",
       "      <td>0</td>\n",
       "      <td>0</td>\n",
       "      <td>0</td>\n",
       "      <td>0</td>\n",
       "      <td>0</td>\n",
       "    </tr>\n",
       "    <tr>\n",
       "      <th>6261</th>\n",
       "      <td>4703.0</td>\n",
       "      <td>2</td>\n",
       "      <td>18.0</td>\n",
       "      <td>0.0</td>\n",
       "      <td>0</td>\n",
       "      <td>0</td>\n",
       "      <td>1</td>\n",
       "      <td>0</td>\n",
       "      <td>0</td>\n",
       "      <td>0</td>\n",
       "      <td>...</td>\n",
       "      <td>0</td>\n",
       "      <td>0</td>\n",
       "      <td>0</td>\n",
       "      <td>0</td>\n",
       "      <td>0</td>\n",
       "      <td>0</td>\n",
       "      <td>0</td>\n",
       "      <td>0</td>\n",
       "      <td>0</td>\n",
       "      <td>0</td>\n",
       "    </tr>\n",
       "    <tr>\n",
       "      <th>4577</th>\n",
       "      <td>176.0</td>\n",
       "      <td>2</td>\n",
       "      <td>91.0</td>\n",
       "      <td>0.0</td>\n",
       "      <td>0</td>\n",
       "      <td>0</td>\n",
       "      <td>0</td>\n",
       "      <td>0</td>\n",
       "      <td>0</td>\n",
       "      <td>0</td>\n",
       "      <td>...</td>\n",
       "      <td>0</td>\n",
       "      <td>0</td>\n",
       "      <td>0</td>\n",
       "      <td>0</td>\n",
       "      <td>0</td>\n",
       "      <td>0</td>\n",
       "      <td>0</td>\n",
       "      <td>0</td>\n",
       "      <td>0</td>\n",
       "      <td>0</td>\n",
       "    </tr>\n",
       "  </tbody>\n",
       "</table>\n",
       "<p>10 rows × 174 columns</p>\n",
       "</div>"
      ],
      "text/plain": [
       "      Ranking  Price Range  Number of Reviews  Rating  \\\n",
       "520    8636.0            2               70.0     0.0   \n",
       "5472  13080.0            2                2.0     0.0   \n",
       "8450   1128.0            2                2.0     0.0   \n",
       "2128   1378.0            2                7.0     0.0   \n",
       "6992    403.0            2                3.0     0.0   \n",
       "9386   2307.0            2              958.0     0.0   \n",
       "7418   5402.0            2                7.0     0.0   \n",
       "1669   5516.0            2               24.0     0.0   \n",
       "6261   4703.0            2               18.0     0.0   \n",
       "4577    176.0            2               91.0     0.0   \n",
       "\n",
       "      Number_of_Reviews_isNAN  Cuisine_Style_isNAN  Price_Range_isNAN  \\\n",
       "520                         0                    0                  0   \n",
       "5472                        0                    1                  1   \n",
       "8450                        0                    1                  1   \n",
       "2128                        0                    1                  1   \n",
       "6992                        0                    0                  1   \n",
       "9386                        0                    0                  0   \n",
       "7418                        0                    0                  1   \n",
       "1669                        0                    1                  1   \n",
       "6261                        0                    0                  1   \n",
       "4577                        0                    0                  0   \n",
       "\n",
       "      Reviews_isNaN  Afghani  African  ...  City_Oporto  City_Oslo  \\\n",
       "520               0        0        0  ...            0          0   \n",
       "5472              1        0        0  ...            0          0   \n",
       "8450              1        0        0  ...            0          0   \n",
       "2128              1        0        0  ...            0          0   \n",
       "6992              0        0        0  ...            0          0   \n",
       "9386              0        0        0  ...            0          0   \n",
       "7418              1        0        0  ...            0          0   \n",
       "1669              0        0        0  ...            0          0   \n",
       "6261              0        0        0  ...            0          0   \n",
       "4577              0        0        0  ...            0          0   \n",
       "\n",
       "      City_Paris  City_Prague  City_Rome  City_Stockholm  City_Vienna  \\\n",
       "520            0            0          0               0            0   \n",
       "5472           1            0          0               0            0   \n",
       "8450           0            0          0               0            0   \n",
       "2128           0            0          0               0            0   \n",
       "6992           0            0          0               0            0   \n",
       "9386           0            0          0               0            0   \n",
       "7418           0            0          0               0            0   \n",
       "1669           0            0          0               0            0   \n",
       "6261           0            0          0               0            0   \n",
       "4577           0            0          0               0            0   \n",
       "\n",
       "      City_Warsaw  City_Zurich  City_nan  \n",
       "520             0            0         0  \n",
       "5472            0            0         0  \n",
       "8450            0            0         0  \n",
       "2128            0            0         0  \n",
       "6992            0            0         0  \n",
       "9386            0            0         0  \n",
       "7418            0            0         0  \n",
       "1669            0            0         0  \n",
       "6261            0            0         0  \n",
       "4577            0            0         0  \n",
       "\n",
       "[10 rows x 174 columns]"
      ]
     },
     "execution_count": 83,
     "metadata": {},
     "output_type": "execute_result"
    }
   ],
   "source": [
    "test_data.sample(10)"
   ]
  },
  {
   "cell_type": "code",
   "execution_count": 84,
   "metadata": {
    "execution": {
     "iopub.execute_input": "2021-07-09T14:19:11.488632Z",
     "iopub.status.busy": "2021-07-09T14:19:11.488129Z",
     "iopub.status.idle": "2021-07-09T14:19:11.497778Z",
     "shell.execute_reply": "2021-07-09T14:19:11.496704Z",
     "shell.execute_reply.started": "2021-07-09T14:19:11.488563Z"
    }
   },
   "outputs": [],
   "source": [
    "test_data = test_data.drop(['Rating'], axis=1)"
   ]
  },
  {
   "cell_type": "code",
   "execution_count": 85,
   "metadata": {
    "execution": {
     "iopub.execute_input": "2021-07-09T14:19:17.732082Z",
     "iopub.status.busy": "2021-07-09T14:19:17.731548Z",
     "iopub.status.idle": "2021-07-09T14:19:17.743250Z",
     "shell.execute_reply": "2021-07-09T14:19:17.742564Z",
     "shell.execute_reply.started": "2021-07-09T14:19:17.732031Z"
    }
   },
   "outputs": [
    {
     "data": {
      "text/html": [
       "<div>\n",
       "<style scoped>\n",
       "    .dataframe tbody tr th:only-of-type {\n",
       "        vertical-align: middle;\n",
       "    }\n",
       "\n",
       "    .dataframe tbody tr th {\n",
       "        vertical-align: top;\n",
       "    }\n",
       "\n",
       "    .dataframe thead th {\n",
       "        text-align: right;\n",
       "    }\n",
       "</style>\n",
       "<table border=\"1\" class=\"dataframe\">\n",
       "  <thead>\n",
       "    <tr style=\"text-align: right;\">\n",
       "      <th></th>\n",
       "      <th>Restaurant_id</th>\n",
       "      <th>Rating</th>\n",
       "    </tr>\n",
       "  </thead>\n",
       "  <tbody>\n",
       "    <tr>\n",
       "      <th>0</th>\n",
       "      <td>id_0</td>\n",
       "      <td>2.0</td>\n",
       "    </tr>\n",
       "    <tr>\n",
       "      <th>1</th>\n",
       "      <td>id_1</td>\n",
       "      <td>2.5</td>\n",
       "    </tr>\n",
       "    <tr>\n",
       "      <th>2</th>\n",
       "      <td>id_2</td>\n",
       "      <td>4.0</td>\n",
       "    </tr>\n",
       "    <tr>\n",
       "      <th>3</th>\n",
       "      <td>id_3</td>\n",
       "      <td>1.0</td>\n",
       "    </tr>\n",
       "    <tr>\n",
       "      <th>4</th>\n",
       "      <td>id_4</td>\n",
       "      <td>4.0</td>\n",
       "    </tr>\n",
       "    <tr>\n",
       "      <th>...</th>\n",
       "      <td>...</td>\n",
       "      <td>...</td>\n",
       "    </tr>\n",
       "    <tr>\n",
       "      <th>9995</th>\n",
       "      <td>id_9995</td>\n",
       "      <td>3.0</td>\n",
       "    </tr>\n",
       "    <tr>\n",
       "      <th>9996</th>\n",
       "      <td>id_9996</td>\n",
       "      <td>1.5</td>\n",
       "    </tr>\n",
       "    <tr>\n",
       "      <th>9997</th>\n",
       "      <td>id_9997</td>\n",
       "      <td>4.5</td>\n",
       "    </tr>\n",
       "    <tr>\n",
       "      <th>9998</th>\n",
       "      <td>id_9998</td>\n",
       "      <td>1.0</td>\n",
       "    </tr>\n",
       "    <tr>\n",
       "      <th>9999</th>\n",
       "      <td>id_9999</td>\n",
       "      <td>2.5</td>\n",
       "    </tr>\n",
       "  </tbody>\n",
       "</table>\n",
       "<p>10000 rows × 2 columns</p>\n",
       "</div>"
      ],
      "text/plain": [
       "     Restaurant_id  Rating\n",
       "0             id_0     2.0\n",
       "1             id_1     2.5\n",
       "2             id_2     4.0\n",
       "3             id_3     1.0\n",
       "4             id_4     4.0\n",
       "...            ...     ...\n",
       "9995       id_9995     3.0\n",
       "9996       id_9996     1.5\n",
       "9997       id_9997     4.5\n",
       "9998       id_9998     1.0\n",
       "9999       id_9999     2.5\n",
       "\n",
       "[10000 rows x 2 columns]"
      ]
     },
     "execution_count": 85,
     "metadata": {},
     "output_type": "execute_result"
    }
   ],
   "source": [
    "sample_submission"
   ]
  },
  {
   "cell_type": "code",
   "execution_count": 86,
   "metadata": {
    "execution": {
     "iopub.execute_input": "2021-07-09T14:19:22.339712Z",
     "iopub.status.busy": "2021-07-09T14:19:22.339185Z",
     "iopub.status.idle": "2021-07-09T14:19:22.555573Z",
     "shell.execute_reply": "2021-07-09T14:19:22.554776Z",
     "shell.execute_reply.started": "2021-07-09T14:19:22.339665Z"
    }
   },
   "outputs": [
    {
     "name": "stderr",
     "output_type": "stream",
     "text": [
      "[Parallel(n_jobs=4)]: Using backend ThreadingBackend with 4 concurrent workers.\n",
      "[Parallel(n_jobs=4)]: Done  42 tasks      | elapsed:    0.0s\n",
      "[Parallel(n_jobs=4)]: Done 100 out of 100 | elapsed:    0.1s finished\n"
     ]
    }
   ],
   "source": [
    "predict_submission = model.predict(test_data)"
   ]
  },
  {
   "cell_type": "code",
   "execution_count": 87,
   "metadata": {
    "execution": {
     "iopub.execute_input": "2021-07-09T14:19:26.841909Z",
     "iopub.status.busy": "2021-07-09T14:19:26.841633Z",
     "iopub.status.idle": "2021-07-09T14:19:26.848413Z",
     "shell.execute_reply": "2021-07-09T14:19:26.847288Z",
     "shell.execute_reply.started": "2021-07-09T14:19:26.841872Z"
    }
   },
   "outputs": [
    {
     "data": {
      "text/plain": [
       "array([3.01 , 4.245, 4.495, ..., 3.03 , 4.5  , 4.295])"
      ]
     },
     "execution_count": 87,
     "metadata": {},
     "output_type": "execute_result"
    }
   ],
   "source": [
    "predict_submission"
   ]
  },
  {
   "cell_type": "code",
   "execution_count": 88,
   "metadata": {
    "execution": {
     "iopub.execute_input": "2021-07-09T14:19:30.631857Z",
     "iopub.status.busy": "2021-07-09T14:19:30.630925Z",
     "iopub.status.idle": "2021-07-09T14:19:31.139522Z",
     "shell.execute_reply": "2021-07-09T14:19:31.138755Z",
     "shell.execute_reply.started": "2021-07-09T14:19:30.631288Z"
    }
   },
   "outputs": [
    {
     "data": {
      "text/html": [
       "<div>\n",
       "<style scoped>\n",
       "    .dataframe tbody tr th:only-of-type {\n",
       "        vertical-align: middle;\n",
       "    }\n",
       "\n",
       "    .dataframe tbody tr th {\n",
       "        vertical-align: top;\n",
       "    }\n",
       "\n",
       "    .dataframe thead th {\n",
       "        text-align: right;\n",
       "    }\n",
       "</style>\n",
       "<table border=\"1\" class=\"dataframe\">\n",
       "  <thead>\n",
       "    <tr style=\"text-align: right;\">\n",
       "      <th></th>\n",
       "      <th>Restaurant_id</th>\n",
       "      <th>Rating</th>\n",
       "    </tr>\n",
       "  </thead>\n",
       "  <tbody>\n",
       "    <tr>\n",
       "      <th>0</th>\n",
       "      <td>id_0</td>\n",
       "      <td>3.010</td>\n",
       "    </tr>\n",
       "    <tr>\n",
       "      <th>1</th>\n",
       "      <td>id_1</td>\n",
       "      <td>4.245</td>\n",
       "    </tr>\n",
       "    <tr>\n",
       "      <th>2</th>\n",
       "      <td>id_2</td>\n",
       "      <td>4.495</td>\n",
       "    </tr>\n",
       "    <tr>\n",
       "      <th>3</th>\n",
       "      <td>id_3</td>\n",
       "      <td>4.375</td>\n",
       "    </tr>\n",
       "    <tr>\n",
       "      <th>4</th>\n",
       "      <td>id_4</td>\n",
       "      <td>4.420</td>\n",
       "    </tr>\n",
       "    <tr>\n",
       "      <th>5</th>\n",
       "      <td>id_5</td>\n",
       "      <td>4.515</td>\n",
       "    </tr>\n",
       "    <tr>\n",
       "      <th>6</th>\n",
       "      <td>id_6</td>\n",
       "      <td>2.725</td>\n",
       "    </tr>\n",
       "    <tr>\n",
       "      <th>7</th>\n",
       "      <td>id_7</td>\n",
       "      <td>2.950</td>\n",
       "    </tr>\n",
       "    <tr>\n",
       "      <th>8</th>\n",
       "      <td>id_8</td>\n",
       "      <td>4.125</td>\n",
       "    </tr>\n",
       "    <tr>\n",
       "      <th>9</th>\n",
       "      <td>id_9</td>\n",
       "      <td>4.605</td>\n",
       "    </tr>\n",
       "  </tbody>\n",
       "</table>\n",
       "</div>"
      ],
      "text/plain": [
       "  Restaurant_id  Rating\n",
       "0          id_0   3.010\n",
       "1          id_1   4.245\n",
       "2          id_2   4.495\n",
       "3          id_3   4.375\n",
       "4          id_4   4.420\n",
       "5          id_5   4.515\n",
       "6          id_6   2.725\n",
       "7          id_7   2.950\n",
       "8          id_8   4.125\n",
       "9          id_9   4.605"
      ]
     },
     "execution_count": 88,
     "metadata": {},
     "output_type": "execute_result"
    }
   ],
   "source": [
    "sample_submission['Rating'] = predict_submission\n",
    "sample_submission.to_csv('submission.csv', index=False)\n",
    "sample_submission.head(10)"
   ]
  }
 ],
 "metadata": {
  "kernelspec": {
   "display_name": "Python 3",
   "language": "python",
   "name": "python3"
  },
  "language_info": {
   "codemirror_mode": {
    "name": "ipython",
    "version": 3
   },
   "file_extension": ".py",
   "mimetype": "text/x-python",
   "name": "python",
   "nbconvert_exporter": "python",
   "pygments_lexer": "ipython3",
   "version": "3.7.6"
  }
 },
 "nbformat": 4,
 "nbformat_minor": 4
}
